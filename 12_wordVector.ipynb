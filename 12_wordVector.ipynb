{
 "cells": [
  {
   "cell_type": "code",
   "execution_count": 1,
   "metadata": {},
   "outputs": [],
   "source": [
    "import spacy\n",
    "nlp = spacy.load(\"en_core_web_lg\")"
   ]
  },
  {
   "cell_type": "code",
   "execution_count": 3,
   "metadata": {},
   "outputs": [
    {
     "name": "stdout",
     "output_type": "stream",
     "text": [
      "sandwich <--> bread 0.6341067417450952\n",
      "burger <--> bread 0.47520687769584247\n",
      "bread <--> bread 1.0\n",
      "car <--> bread 0.06451532596945217\n",
      "tiger <--> bread 0.04764611675903374\n",
      "human <--> bread 0.2151154210812192\n",
      "wheat <--> bread 0.615036141030184\n"
     ]
    }
   ],
   "source": [
    "doc = nlp('sandwich burger bread car tiger human wheat')\n",
    "base_token = nlp('bread')\n",
    "\n",
    "for token in doc:\n",
    "    print(f'{token.text} <--> {base_token}' , token.similarity(base_token))\n"
   ]
  },
  {
   "cell_type": "code",
   "execution_count": 6,
   "metadata": {},
   "outputs": [],
   "source": [
    "def print_similarity(base_word , word_to_compare):\n",
    "    base_word = nlp(base_word)\n",
    "    word_to_compare = nlp(word_to_compare)\n",
    "    for token in word_to_compare :\n",
    "        print(f\"{token.text} <--> {base_word} :\" , token.similarity(base_word))\n"
   ]
  },
  {
   "cell_type": "code",
   "execution_count": 7,
   "metadata": {},
   "outputs": [
    {
     "name": "stdout",
     "output_type": "stream",
     "text": [
      "sandwich <--> bread : 0.6341067417450952\n",
      "burger <--> bread : 0.47520687769584247\n",
      "bread <--> bread : 1.0\n",
      "car <--> bread : 0.06451532596945217\n",
      "tiger <--> bread : 0.04764611675903374\n",
      "human <--> bread : 0.2151154210812192\n",
      "wheat <--> bread : 0.615036141030184\n"
     ]
    }
   ],
   "source": [
    "print_similarity('bread','sandwich burger bread car tiger human wheat')"
   ]
  },
  {
   "cell_type": "code",
   "execution_count": 8,
   "metadata": {},
   "outputs": [],
   "source": [
    "king = nlp.vocab['king'].vector\n",
    "queen = nlp.vocab['queen'].vector\n",
    "man = nlp.vocab[\"man\"].vector\n",
    "woman = nlp.vocab['woman'].vector\n",
    "\n",
    "result = king - man + woman\n"
   ]
  },
  {
   "cell_type": "code",
   "execution_count": 10,
   "metadata": {},
   "outputs": [
    {
     "data": {
      "text/plain": [
       "array([[0.6178014]], dtype=float32)"
      ]
     },
     "execution_count": 10,
     "metadata": {},
     "output_type": "execute_result"
    }
   ],
   "source": [
    "from sklearn.metrics.pairwise import cosine_similarity\n",
    "cosine_similarity([result] , [queen])"
   ]
  },
  {
   "cell_type": "code",
   "execution_count": null,
   "metadata": {},
   "outputs": [],
   "source": []
  }
 ],
 "metadata": {
  "kernelspec": {
   "display_name": "base",
   "language": "python",
   "name": "python3"
  },
  "language_info": {
   "codemirror_mode": {
    "name": "ipython",
    "version": 3
   },
   "file_extension": ".py",
   "mimetype": "text/x-python",
   "name": "python",
   "nbconvert_exporter": "python",
   "pygments_lexer": "ipython3",
   "version": "3.10.9"
  },
  "orig_nbformat": 4
 },
 "nbformat": 4,
 "nbformat_minor": 2
}
