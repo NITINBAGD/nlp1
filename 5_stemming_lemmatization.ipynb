{
 "cells": [
  {
   "cell_type": "code",
   "execution_count": 1,
   "metadata": {},
   "outputs": [],
   "source": [
    "import nltk\n",
    "import spacy"
   ]
  },
  {
   "cell_type": "code",
   "execution_count": 2,
   "metadata": {},
   "outputs": [],
   "source": [
    "from nltk.stem import PorterStemmer\n",
    "stemmer = PorterStemmer()"
   ]
  },
  {
   "cell_type": "code",
   "execution_count": 4,
   "metadata": {},
   "outputs": [
    {
     "name": "stdout",
     "output_type": "stream",
     "text": [
      "eating | eat\n",
      "eats | eat\n",
      "ate | ate\n",
      "eat | eat\n",
      "adjustable | adjust\n",
      "rafting | raft\n",
      "ability | abil\n",
      "meeting | meet\n",
      "meet | meet\n",
      "better | better\n"
     ]
    }
   ],
   "source": [
    "words =['eating' , 'eats' , 'ate' , 'eat' , 'adjustable' , 'rafting' , 'ability' , 'meeting' , 'meet' , 'better']\n",
    "\n",
    "for word in words:\n",
    "    print(word ,\"|\" , stemmer.stem(word))"
   ]
  },
  {
   "cell_type": "code",
   "execution_count": 5,
   "metadata": {},
   "outputs": [
    {
     "name": "stdout",
     "output_type": "stream",
     "text": [
      "eating | eat\n",
      "eats | eat\n",
      "ate | ate\n",
      "eat | eat\n",
      "adjustable | adjustable\n",
      "rafting | raft\n",
      "ability | ability\n",
      "meeting | meeting\n",
      "meet | meet\n",
      "better | well\n"
     ]
    }
   ],
   "source": [
    "nlp = spacy.load(\"en_core_web_sm\")\n",
    "doc = nlp(\"eating eats ate eat adjustable rafting ability meeting meet better\")\n",
    "\n",
    "for token in doc:\n",
    "    print(token ,\"|\" , token.lemma_)"
   ]
  },
  {
   "cell_type": "code",
   "execution_count": 6,
   "metadata": {},
   "outputs": [
    {
     "data": {
      "text/plain": [
       "['tok2vec', 'tagger', 'parser', 'attribute_ruler', 'lemmatizer', 'ner']"
      ]
     },
     "execution_count": 6,
     "metadata": {},
     "output_type": "execute_result"
    }
   ],
   "source": [
    "nlp.pipe_names\n"
   ]
  },
  {
   "cell_type": "code",
   "execution_count": 8,
   "metadata": {},
   "outputs": [
    {
     "name": "stdout",
     "output_type": "stream",
     "text": [
      "bro | brother\n",
      "do | do\n",
      "you | you\n",
      "want | want\n",
      "to | to\n",
      "go | go\n",
      "? | ?\n",
      "no | no\n",
      "brah | brother\n",
      "i | I\n",
      "do | do\n",
      "not | not\n",
      "want | want\n",
      "to | to\n"
     ]
    }
   ],
   "source": [
    "ar =  nlp.get_pipe('attribute_ruler')\n",
    "ar.add([[{'TEXT' : 'bro'}] ,[{'Text':\"brah\"}]] ,{'LEMMA' : \"brother\"})\n",
    "\n",
    "doc = nlp('bro do you want to go? no brah i do not want to ')\n",
    "for token in doc:\n",
    "    print(token ,\"|\" , token.lemma_)"
   ]
  },
  {
   "cell_type": "code",
   "execution_count": null,
   "metadata": {},
   "outputs": [],
   "source": []
  }
 ],
 "metadata": {
  "kernelspec": {
   "display_name": "base",
   "language": "python",
   "name": "python3"
  },
  "language_info": {
   "codemirror_mode": {
    "name": "ipython",
    "version": 3
   },
   "file_extension": ".py",
   "mimetype": "text/x-python",
   "name": "python",
   "nbconvert_exporter": "python",
   "pygments_lexer": "ipython3",
   "version": "3.10.9"
  },
  "orig_nbformat": 4
 },
 "nbformat": 4,
 "nbformat_minor": 2
}
