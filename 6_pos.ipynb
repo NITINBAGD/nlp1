{
 "cells": [
  {
   "cell_type": "code",
   "execution_count": 1,
   "metadata": {},
   "outputs": [],
   "source": [
    "import spacy"
   ]
  },
  {
   "cell_type": "code",
   "execution_count": 4,
   "metadata": {},
   "outputs": [
    {
     "name": "stdout",
     "output_type": "stream",
     "text": [
      "Elon  |  PROPN  |  proper noun  |  NNP | noun, proper singular\n",
      "flew  |  VERB  |  verb  |  VBD | verb, past tense\n",
      "to  |  ADP  |  adposition  |  IN | conjunction, subordinating or preposition\n",
      "marsh  |  PROPN  |  proper noun  |  NNP | noun, proper singular\n",
      "yesterday  |  NOUN  |  noun  |  NN | noun, singular or mass\n",
      ".  |  PUNCT  |  punctuation  |  . | punctuation mark, sentence closer\n",
      "He  |  PRON  |  pronoun  |  PRP | pronoun, personal\n",
      "carried  |  VERB  |  verb  |  VBD | verb, past tense\n",
      "birayani  |  ADJ  |  adjective  |  JJ | adjective (English), other noun-modifier (Chinese)\n",
      "masal  |  NOUN  |  noun  |  NN | noun, singular or mass\n",
      "with  |  ADP  |  adposition  |  IN | conjunction, subordinating or preposition\n",
      "him  |  PRON  |  pronoun  |  PRP | pronoun, personal\n"
     ]
    }
   ],
   "source": [
    "nlp = spacy.load('en_core_web_sm')\n",
    "doc = nlp('Elon flew to marsh yesterday. He carried birayani masal with him')\n",
    "\n",
    "for token in doc:\n",
    "    print(token , \" | \" , token.pos_ , ' | ' ,spacy.explain(token.pos_), ' | ' ,token.tag_ , '|', spacy.explain(token.tag_))"
   ]
  },
  {
   "cell_type": "code",
   "execution_count": 5,
   "metadata": {},
   "outputs": [
    {
     "name": "stdout",
     "output_type": "stream",
     "text": [
      ". | | PUNCT punctuation\n"
     ]
    }
   ],
   "source": [
    "for token in doc:\n",
    "    if token.pos_ in ['SPACE' , 'X' , 'PUNCT']:\n",
    "        print(token , \"|\" ,'|' , token.pos_, spacy.explain(token.pos_))"
   ]
  },
  {
   "cell_type": "code",
   "execution_count": 7,
   "metadata": {},
   "outputs": [
    {
     "name": "stdout",
     "output_type": "stream",
     "text": [
      "Elon | PROPN | proper noun\n",
      "flew | VERB | verb\n",
      "to | ADP | adposition\n",
      "marsh | PROPN | proper noun\n",
      "yesterday | NOUN | noun\n",
      "He | PRON | pronoun\n",
      "carried | VERB | verb\n",
      "birayani | ADJ | adjective\n",
      "masal | NOUN | noun\n",
      "with | ADP | adposition\n",
      "him | PRON | pronoun\n"
     ]
    }
   ],
   "source": [
    "for token in doc:\n",
    "    if token.pos_ not in ['SPACE' , 'X' , 'PUNCT']:\n",
    "        print(token , \"|\" , token.pos_, '|' ,spacy.explain(token.pos_))"
   ]
  },
  {
   "cell_type": "code",
   "execution_count": null,
   "metadata": {},
   "outputs": [],
   "source": []
  }
 ],
 "metadata": {
  "kernelspec": {
   "display_name": "base",
   "language": "python",
   "name": "python3"
  },
  "language_info": {
   "codemirror_mode": {
    "name": "ipython",
    "version": 3
   },
   "file_extension": ".py",
   "mimetype": "text/x-python",
   "name": "python",
   "nbconvert_exporter": "python",
   "pygments_lexer": "ipython3",
   "version": "3.10.9"
  },
  "orig_nbformat": 4
 },
 "nbformat": 4,
 "nbformat_minor": 2
}
