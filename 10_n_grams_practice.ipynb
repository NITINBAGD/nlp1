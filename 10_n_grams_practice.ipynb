{
 "cells": [
  {
   "cell_type": "code",
   "execution_count": 84,
   "metadata": {},
   "outputs": [],
   "source": [
    "carpus = ['Thor ate pizza' , 'Loki is tall' , 'loki is eating pizza']"
   ]
  },
  {
   "cell_type": "code",
   "execution_count": 85,
   "metadata": {},
   "outputs": [],
   "source": [
    "from sklearn.feature_extraction.text import CountVectorizer\n",
    "cv = CountVectorizer(ngram_range=(1,2))\n",
    "cv =cv.fit(['oki is eating pizza'])\n"
   ]
  },
  {
   "cell_type": "code",
   "execution_count": 86,
   "metadata": {},
   "outputs": [
    {
     "data": {
      "text/plain": [
       "{'oki': 4,\n",
       " 'is': 2,\n",
       " 'eating': 0,\n",
       " 'pizza': 6,\n",
       " 'oki is': 5,\n",
       " 'is eating': 3,\n",
       " 'eating pizza': 1}"
      ]
     },
     "execution_count": 86,
     "metadata": {},
     "output_type": "execute_result"
    }
   ],
   "source": [
    "cv.vocabulary_"
   ]
  },
  {
   "cell_type": "code",
   "execution_count": 87,
   "metadata": {},
   "outputs": [],
   "source": [
    "import spacy\n",
    "nlp = spacy.load('en_core_web_sm')\n",
    "def preprocess(text):\n",
    "    doc = nlp(text)\n",
    "    preprocess_txt = []\n",
    "\n",
    "    for token in doc:\n",
    "        if token.is_stop or token.is_punct:\n",
    "            continue\n",
    "        preprocess_txt.append(token.lemma_)\n",
    "    return \" \".join(preprocess_txt)\n"
   ]
  },
  {
   "cell_type": "code",
   "execution_count": 88,
   "metadata": {},
   "outputs": [
    {
     "name": "stdout",
     "output_type": "stream",
     "text": [
      "thor eat pizza\n",
      "Loki tall\n",
      "loki eat pizza\n"
     ]
    }
   ],
   "source": [
    "# preprocess('my name is , nitin is working')\n",
    "for text in carpus:\n",
    "    print(preprocess(text))\n"
   ]
  },
  {
   "cell_type": "code",
   "execution_count": 89,
   "metadata": {},
   "outputs": [
    {
     "data": {
      "text/html": [
       "<div>\n",
       "<style scoped>\n",
       "    .dataframe tbody tr th:only-of-type {\n",
       "        vertical-align: middle;\n",
       "    }\n",
       "\n",
       "    .dataframe tbody tr th {\n",
       "        vertical-align: top;\n",
       "    }\n",
       "\n",
       "    .dataframe thead th {\n",
       "        text-align: right;\n",
       "    }\n",
       "</style>\n",
       "<table border=\"1\" class=\"dataframe\">\n",
       "  <thead>\n",
       "    <tr style=\"text-align: right;\">\n",
       "      <th></th>\n",
       "      <th>link</th>\n",
       "      <th>headline</th>\n",
       "      <th>category</th>\n",
       "      <th>short_description</th>\n",
       "      <th>authors</th>\n",
       "      <th>date</th>\n",
       "    </tr>\n",
       "  </thead>\n",
       "  <tbody>\n",
       "    <tr>\n",
       "      <th>0</th>\n",
       "      <td>https://www.huffpost.com/entry/covid-boosters-...</td>\n",
       "      <td>Over 4 Million Americans Roll Up Sleeves For O...</td>\n",
       "      <td>U.S. NEWS</td>\n",
       "      <td>Health experts said it is too early to predict...</td>\n",
       "      <td>Carla K. Johnson, AP</td>\n",
       "      <td>2022-09-23</td>\n",
       "    </tr>\n",
       "    <tr>\n",
       "      <th>1</th>\n",
       "      <td>https://www.huffpost.com/entry/american-airlin...</td>\n",
       "      <td>American Airlines Flyer Charged, Banned For Li...</td>\n",
       "      <td>U.S. NEWS</td>\n",
       "      <td>He was subdued by passengers and crew when he ...</td>\n",
       "      <td>Mary Papenfuss</td>\n",
       "      <td>2022-09-23</td>\n",
       "    </tr>\n",
       "    <tr>\n",
       "      <th>2</th>\n",
       "      <td>https://www.huffpost.com/entry/funniest-tweets...</td>\n",
       "      <td>23 Of The Funniest Tweets About Cats And Dogs ...</td>\n",
       "      <td>COMEDY</td>\n",
       "      <td>\"Until you have a dog you don't understand wha...</td>\n",
       "      <td>Elyse Wanshel</td>\n",
       "      <td>2022-09-23</td>\n",
       "    </tr>\n",
       "    <tr>\n",
       "      <th>3</th>\n",
       "      <td>https://www.huffpost.com/entry/funniest-parent...</td>\n",
       "      <td>The Funniest Tweets From Parents This Week (Se...</td>\n",
       "      <td>PARENTING</td>\n",
       "      <td>\"Accidentally put grown-up toothpaste on my to...</td>\n",
       "      <td>Caroline Bologna</td>\n",
       "      <td>2022-09-23</td>\n",
       "    </tr>\n",
       "    <tr>\n",
       "      <th>4</th>\n",
       "      <td>https://www.huffpost.com/entry/amy-cooper-lose...</td>\n",
       "      <td>Woman Who Called Cops On Black Bird-Watcher Lo...</td>\n",
       "      <td>U.S. NEWS</td>\n",
       "      <td>Amy Cooper accused investment firm Franklin Te...</td>\n",
       "      <td>Nina Golgowski</td>\n",
       "      <td>2022-09-22</td>\n",
       "    </tr>\n",
       "  </tbody>\n",
       "</table>\n",
       "</div>"
      ],
      "text/plain": [
       "                                                link  \\\n",
       "0  https://www.huffpost.com/entry/covid-boosters-...   \n",
       "1  https://www.huffpost.com/entry/american-airlin...   \n",
       "2  https://www.huffpost.com/entry/funniest-tweets...   \n",
       "3  https://www.huffpost.com/entry/funniest-parent...   \n",
       "4  https://www.huffpost.com/entry/amy-cooper-lose...   \n",
       "\n",
       "                                            headline   category  \\\n",
       "0  Over 4 Million Americans Roll Up Sleeves For O...  U.S. NEWS   \n",
       "1  American Airlines Flyer Charged, Banned For Li...  U.S. NEWS   \n",
       "2  23 Of The Funniest Tweets About Cats And Dogs ...     COMEDY   \n",
       "3  The Funniest Tweets From Parents This Week (Se...  PARENTING   \n",
       "4  Woman Who Called Cops On Black Bird-Watcher Lo...  U.S. NEWS   \n",
       "\n",
       "                                   short_description               authors  \\\n",
       "0  Health experts said it is too early to predict...  Carla K. Johnson, AP   \n",
       "1  He was subdued by passengers and crew when he ...        Mary Papenfuss   \n",
       "2  \"Until you have a dog you don't understand wha...         Elyse Wanshel   \n",
       "3  \"Accidentally put grown-up toothpaste on my to...      Caroline Bologna   \n",
       "4  Amy Cooper accused investment firm Franklin Te...        Nina Golgowski   \n",
       "\n",
       "        date  \n",
       "0 2022-09-23  \n",
       "1 2022-09-23  \n",
       "2 2022-09-23  \n",
       "3 2022-09-23  \n",
       "4 2022-09-22  "
      ]
     },
     "execution_count": 89,
     "metadata": {},
     "output_type": "execute_result"
    }
   ],
   "source": [
    "import pandas as pd \n",
    "df = pd.read_json('News_Category_Dataset_v3.json' , lines=True)\n",
    "df.head()"
   ]
  },
  {
   "cell_type": "code",
   "execution_count": 90,
   "metadata": {},
   "outputs": [
    {
     "data": {
      "text/plain": [
       "1257162"
      ]
     },
     "execution_count": 90,
     "metadata": {},
     "output_type": "execute_result"
    }
   ],
   "source": [
    "df.size"
   ]
  },
  {
   "cell_type": "code",
   "execution_count": 91,
   "metadata": {},
   "outputs": [
    {
     "data": {
      "text/plain": [
       "0"
      ]
     },
     "execution_count": 91,
     "metadata": {},
     "output_type": "execute_result"
    }
   ],
   "source": [
    "df.short_description.isna().sum()"
   ]
  },
  {
   "cell_type": "code",
   "execution_count": 92,
   "metadata": {},
   "outputs": [],
   "source": [
    "df =df[df.short_description.str.len()!=0]"
   ]
  },
  {
   "cell_type": "code",
   "execution_count": 93,
   "metadata": {},
   "outputs": [
    {
     "data": {
      "text/html": [
       "<div>\n",
       "<style scoped>\n",
       "    .dataframe tbody tr th:only-of-type {\n",
       "        vertical-align: middle;\n",
       "    }\n",
       "\n",
       "    .dataframe tbody tr th {\n",
       "        vertical-align: top;\n",
       "    }\n",
       "\n",
       "    .dataframe thead th {\n",
       "        text-align: right;\n",
       "    }\n",
       "</style>\n",
       "<table border=\"1\" class=\"dataframe\">\n",
       "  <thead>\n",
       "    <tr style=\"text-align: right;\">\n",
       "      <th></th>\n",
       "      <th>link</th>\n",
       "      <th>headline</th>\n",
       "      <th>category</th>\n",
       "      <th>short_description</th>\n",
       "      <th>authors</th>\n",
       "      <th>date</th>\n",
       "    </tr>\n",
       "  </thead>\n",
       "  <tbody>\n",
       "    <tr>\n",
       "      <th>0</th>\n",
       "      <td>https://www.huffpost.com/entry/covid-boosters-...</td>\n",
       "      <td>Over 4 Million Americans Roll Up Sleeves For O...</td>\n",
       "      <td>U.S. NEWS</td>\n",
       "      <td>Health experts said it is too early to predict...</td>\n",
       "      <td>Carla K. Johnson, AP</td>\n",
       "      <td>2022-09-23</td>\n",
       "    </tr>\n",
       "    <tr>\n",
       "      <th>1</th>\n",
       "      <td>https://www.huffpost.com/entry/american-airlin...</td>\n",
       "      <td>American Airlines Flyer Charged, Banned For Li...</td>\n",
       "      <td>U.S. NEWS</td>\n",
       "      <td>He was subdued by passengers and crew when he ...</td>\n",
       "      <td>Mary Papenfuss</td>\n",
       "      <td>2022-09-23</td>\n",
       "    </tr>\n",
       "    <tr>\n",
       "      <th>2</th>\n",
       "      <td>https://www.huffpost.com/entry/funniest-tweets...</td>\n",
       "      <td>23 Of The Funniest Tweets About Cats And Dogs ...</td>\n",
       "      <td>COMEDY</td>\n",
       "      <td>\"Until you have a dog you don't understand wha...</td>\n",
       "      <td>Elyse Wanshel</td>\n",
       "      <td>2022-09-23</td>\n",
       "    </tr>\n",
       "    <tr>\n",
       "      <th>3</th>\n",
       "      <td>https://www.huffpost.com/entry/funniest-parent...</td>\n",
       "      <td>The Funniest Tweets From Parents This Week (Se...</td>\n",
       "      <td>PARENTING</td>\n",
       "      <td>\"Accidentally put grown-up toothpaste on my to...</td>\n",
       "      <td>Caroline Bologna</td>\n",
       "      <td>2022-09-23</td>\n",
       "    </tr>\n",
       "    <tr>\n",
       "      <th>4</th>\n",
       "      <td>https://www.huffpost.com/entry/amy-cooper-lose...</td>\n",
       "      <td>Woman Who Called Cops On Black Bird-Watcher Lo...</td>\n",
       "      <td>U.S. NEWS</td>\n",
       "      <td>Amy Cooper accused investment firm Franklin Te...</td>\n",
       "      <td>Nina Golgowski</td>\n",
       "      <td>2022-09-22</td>\n",
       "    </tr>\n",
       "  </tbody>\n",
       "</table>\n",
       "</div>"
      ],
      "text/plain": [
       "                                                link  \\\n",
       "0  https://www.huffpost.com/entry/covid-boosters-...   \n",
       "1  https://www.huffpost.com/entry/american-airlin...   \n",
       "2  https://www.huffpost.com/entry/funniest-tweets...   \n",
       "3  https://www.huffpost.com/entry/funniest-parent...   \n",
       "4  https://www.huffpost.com/entry/amy-cooper-lose...   \n",
       "\n",
       "                                            headline   category  \\\n",
       "0  Over 4 Million Americans Roll Up Sleeves For O...  U.S. NEWS   \n",
       "1  American Airlines Flyer Charged, Banned For Li...  U.S. NEWS   \n",
       "2  23 Of The Funniest Tweets About Cats And Dogs ...     COMEDY   \n",
       "3  The Funniest Tweets From Parents This Week (Se...  PARENTING   \n",
       "4  Woman Who Called Cops On Black Bird-Watcher Lo...  U.S. NEWS   \n",
       "\n",
       "                                   short_description               authors  \\\n",
       "0  Health experts said it is too early to predict...  Carla K. Johnson, AP   \n",
       "1  He was subdued by passengers and crew when he ...        Mary Papenfuss   \n",
       "2  \"Until you have a dog you don't understand wha...         Elyse Wanshel   \n",
       "3  \"Accidentally put grown-up toothpaste on my to...      Caroline Bologna   \n",
       "4  Amy Cooper accused investment firm Franklin Te...        Nina Golgowski   \n",
       "\n",
       "        date  \n",
       "0 2022-09-23  \n",
       "1 2022-09-23  \n",
       "2 2022-09-23  \n",
       "3 2022-09-23  \n",
       "4 2022-09-22  "
      ]
     },
     "execution_count": 93,
     "metadata": {},
     "output_type": "execute_result"
    }
   ],
   "source": [
    "df.head()"
   ]
  },
  {
   "cell_type": "code",
   "execution_count": 94,
   "metadata": {},
   "outputs": [
    {
     "data": {
      "text/plain": [
       "POLITICS          32441\n",
       "WELLNESS          17943\n",
       "ENTERTAINMENT     14774\n",
       "STYLE & BEAUTY     9802\n",
       "TRAVEL             9421\n",
       "PARENTING          8790\n",
       "FOOD & DRINK       6331\n",
       "QUEER VOICES       5603\n",
       "HEALTHY LIVING     5265\n",
       "BUSINESS           5132\n",
       "COMEDY             4642\n",
       "SPORTS             4414\n",
       "HOME & LIVING      4317\n",
       "BLACK VOICES       4177\n",
       "THE WORLDPOST      3664\n",
       "WEDDINGS           3653\n",
       "PARENTS            3556\n",
       "DIVORCE            3426\n",
       "WORLD NEWS         3297\n",
       "WOMEN              3184\n",
       "IMPACT             3086\n",
       "CRIME              2832\n",
       "MEDIA              2404\n",
       "WEIRD NEWS         2316\n",
       "TECH               2103\n",
       "GREEN              2046\n",
       "TASTE              1940\n",
       "RELIGION           1879\n",
       "SCIENCE            1803\n",
       "MONEY              1755\n",
       "STYLE              1567\n",
       "ENVIRONMENT        1442\n",
       "U.S. NEWS          1377\n",
       "ARTS & CULTURE     1339\n",
       "WORLDPOST          1242\n",
       "CULTURE & ARTS     1063\n",
       "FIFTY              1042\n",
       "GOOD NEWS          1039\n",
       "LATINO VOICES      1022\n",
       "COLLEGE             921\n",
       "EDUCATION           902\n",
       "ARTS                863\n",
       "Name: category, dtype: int64"
      ]
     },
     "execution_count": 94,
     "metadata": {},
     "output_type": "execute_result"
    }
   ],
   "source": [
    "df.category.value_counts()\n"
   ]
  },
  {
   "cell_type": "code",
   "execution_count": 95,
   "metadata": {},
   "outputs": [],
   "source": [
    "df1 = df[df.category == 'COMEDY']\n",
    "df2 = df[df.category == 'GREEN']\n",
    "df3 = df[df.category == 'CRIME']\n",
    "df4 = df[df.category == 'MEDIA']"
   ]
  },
  {
   "cell_type": "code",
   "execution_count": 96,
   "metadata": {},
   "outputs": [
    {
     "data": {
      "text/html": [
       "<div>\n",
       "<style scoped>\n",
       "    .dataframe tbody tr th:only-of-type {\n",
       "        vertical-align: middle;\n",
       "    }\n",
       "\n",
       "    .dataframe tbody tr th {\n",
       "        vertical-align: top;\n",
       "    }\n",
       "\n",
       "    .dataframe thead th {\n",
       "        text-align: right;\n",
       "    }\n",
       "</style>\n",
       "<table border=\"1\" class=\"dataframe\">\n",
       "  <thead>\n",
       "    <tr style=\"text-align: right;\">\n",
       "      <th></th>\n",
       "      <th>link</th>\n",
       "      <th>headline</th>\n",
       "      <th>category</th>\n",
       "      <th>short_description</th>\n",
       "      <th>authors</th>\n",
       "      <th>date</th>\n",
       "    </tr>\n",
       "  </thead>\n",
       "  <tbody>\n",
       "    <tr>\n",
       "      <th>319</th>\n",
       "      <td>https://www.huffpost.com/entry/chris-cuomo-new...</td>\n",
       "      <td>Chris Cuomo Returning To Cable News After CNN ...</td>\n",
       "      <td>MEDIA</td>\n",
       "      <td>The former head of his own CNN show has taken ...</td>\n",
       "      <td>Josephine Harvey</td>\n",
       "      <td>2022-07-27</td>\n",
       "    </tr>\n",
       "    <tr>\n",
       "      <th>450</th>\n",
       "      <td>https://www.huffpost.com/entry/alex-wagner-msn...</td>\n",
       "      <td>MSNBC Names Rachel Maddow's Successor: Alex Wa...</td>\n",
       "      <td>MEDIA</td>\n",
       "      <td>“I’m honored to be anchoring a key hour of tel...</td>\n",
       "      <td>Josephine Harvey</td>\n",
       "      <td>2022-06-28</td>\n",
       "    </tr>\n",
       "    <tr>\n",
       "      <th>886</th>\n",
       "      <td>https://www.huffpost.com/entry/fox-news-benjam...</td>\n",
       "      <td>Fox News Reporter Feels ‘Damn Lucky’ After Los...</td>\n",
       "      <td>MEDIA</td>\n",
       "      <td>Benjamin Hall was injured after his vehicle wa...</td>\n",
       "      <td>Nick Visser</td>\n",
       "      <td>2022-04-08</td>\n",
       "    </tr>\n",
       "    <tr>\n",
       "      <th>1036</th>\n",
       "      <td>https://www.huffpost.com/entry/meta-facebook-h...</td>\n",
       "      <td>Meta Grants Exemption To Hate Speech Rules, Al...</td>\n",
       "      <td>MEDIA</td>\n",
       "      <td>The rules change applies to Facebook and Insta...</td>\n",
       "      <td>Marita Vlachou</td>\n",
       "      <td>2022-03-11</td>\n",
       "    </tr>\n",
       "    <tr>\n",
       "      <th>1079</th>\n",
       "      <td>https://www.huffpost.com/entry/new-york-times-...</td>\n",
       "      <td>New York Times Tech Workers Vote To Unionize</td>\n",
       "      <td>MEDIA</td>\n",
       "      <td>Strong opposition from the company did not sto...</td>\n",
       "      <td>Dave Jamieson</td>\n",
       "      <td>2022-03-03</td>\n",
       "    </tr>\n",
       "    <tr>\n",
       "      <th>...</th>\n",
       "      <td>...</td>\n",
       "      <td>...</td>\n",
       "      <td>...</td>\n",
       "      <td>...</td>\n",
       "      <td>...</td>\n",
       "      <td>...</td>\n",
       "    </tr>\n",
       "    <tr>\n",
       "      <th>132411</th>\n",
       "      <td>https://www.huffingtonpost.com/entry/when-sout...</td>\n",
       "      <td>When South Africa Called, We Answered</td>\n",
       "      <td>MEDIA</td>\n",
       "      <td>Even as South Africa celebrates its 20th anniv...</td>\n",
       "      <td>Danny Schechter, ContributorFounder and execut...</td>\n",
       "      <td>2014-05-03</td>\n",
       "    </tr>\n",
       "    <tr>\n",
       "      <th>132865</th>\n",
       "      <td>https://www.huffingtonpost.com/entry/post_7435...</td>\n",
       "      <td>The Drama of TV News</td>\n",
       "      <td>MEDIA</td>\n",
       "      <td>If a network wants to, it can destroy a talent...</td>\n",
       "      <td>Greta Van Susteren, ContributorHost, Fox News'...</td>\n",
       "      <td>2014-04-27</td>\n",
       "    </tr>\n",
       "    <tr>\n",
       "      <th>132983</th>\n",
       "      <td>https://www.huffingtonpost.com/entry/media-and...</td>\n",
       "      <td>Let's Get Real: Kim Kardashian's Butt Size Is ...</td>\n",
       "      <td>MEDIA</td>\n",
       "      <td>We're living in a time where headlines about a...</td>\n",
       "      <td>Sarah Toce, ContributorFounder/Publisher of Th...</td>\n",
       "      <td>2014-04-26</td>\n",
       "    </tr>\n",
       "    <tr>\n",
       "      <th>133232</th>\n",
       "      <td>https://www.huffingtonpost.com/entry/aereo-tv_...</td>\n",
       "      <td>Clearing the Aereo</td>\n",
       "      <td>MEDIA</td>\n",
       "      <td>Big media tries to ease its headaches through ...</td>\n",
       "      <td>Jim Monroe, ContributorFounder, OTT Age Indust...</td>\n",
       "      <td>2014-04-23</td>\n",
       "    </tr>\n",
       "    <tr>\n",
       "      <th>133377</th>\n",
       "      <td>https://www.huffingtonpost.com/entry/why-good-...</td>\n",
       "      <td>Why Good Content Is a Must</td>\n",
       "      <td>MEDIA</td>\n",
       "      <td>In the consumer dating scene, content is what ...</td>\n",
       "      <td>Arnt Eriksen, ContributorChief Innovation Offi...</td>\n",
       "      <td>2014-04-21</td>\n",
       "    </tr>\n",
       "  </tbody>\n",
       "</table>\n",
       "<p>2404 rows × 6 columns</p>\n",
       "</div>"
      ],
      "text/plain": [
       "                                                     link  \\\n",
       "319     https://www.huffpost.com/entry/chris-cuomo-new...   \n",
       "450     https://www.huffpost.com/entry/alex-wagner-msn...   \n",
       "886     https://www.huffpost.com/entry/fox-news-benjam...   \n",
       "1036    https://www.huffpost.com/entry/meta-facebook-h...   \n",
       "1079    https://www.huffpost.com/entry/new-york-times-...   \n",
       "...                                                   ...   \n",
       "132411  https://www.huffingtonpost.com/entry/when-sout...   \n",
       "132865  https://www.huffingtonpost.com/entry/post_7435...   \n",
       "132983  https://www.huffingtonpost.com/entry/media-and...   \n",
       "133232  https://www.huffingtonpost.com/entry/aereo-tv_...   \n",
       "133377  https://www.huffingtonpost.com/entry/why-good-...   \n",
       "\n",
       "                                                 headline category  \\\n",
       "319     Chris Cuomo Returning To Cable News After CNN ...    MEDIA   \n",
       "450     MSNBC Names Rachel Maddow's Successor: Alex Wa...    MEDIA   \n",
       "886     Fox News Reporter Feels ‘Damn Lucky’ After Los...    MEDIA   \n",
       "1036    Meta Grants Exemption To Hate Speech Rules, Al...    MEDIA   \n",
       "1079         New York Times Tech Workers Vote To Unionize    MEDIA   \n",
       "...                                                   ...      ...   \n",
       "132411              When South Africa Called, We Answered    MEDIA   \n",
       "132865                               The Drama of TV News    MEDIA   \n",
       "132983  Let's Get Real: Kim Kardashian's Butt Size Is ...    MEDIA   \n",
       "133232                                 Clearing the Aereo    MEDIA   \n",
       "133377                         Why Good Content Is a Must    MEDIA   \n",
       "\n",
       "                                        short_description  \\\n",
       "319     The former head of his own CNN show has taken ...   \n",
       "450     “I’m honored to be anchoring a key hour of tel...   \n",
       "886     Benjamin Hall was injured after his vehicle wa...   \n",
       "1036    The rules change applies to Facebook and Insta...   \n",
       "1079    Strong opposition from the company did not sto...   \n",
       "...                                                   ...   \n",
       "132411  Even as South Africa celebrates its 20th anniv...   \n",
       "132865  If a network wants to, it can destroy a talent...   \n",
       "132983  We're living in a time where headlines about a...   \n",
       "133232  Big media tries to ease its headaches through ...   \n",
       "133377  In the consumer dating scene, content is what ...   \n",
       "\n",
       "                                                  authors       date  \n",
       "319                                      Josephine Harvey 2022-07-27  \n",
       "450                                      Josephine Harvey 2022-06-28  \n",
       "886                                           Nick Visser 2022-04-08  \n",
       "1036                                       Marita Vlachou 2022-03-11  \n",
       "1079                                        Dave Jamieson 2022-03-03  \n",
       "...                                                   ...        ...  \n",
       "132411  Danny Schechter, ContributorFounder and execut... 2014-05-03  \n",
       "132865  Greta Van Susteren, ContributorHost, Fox News'... 2014-04-27  \n",
       "132983  Sarah Toce, ContributorFounder/Publisher of Th... 2014-04-26  \n",
       "133232  Jim Monroe, ContributorFounder, OTT Age Indust... 2014-04-23  \n",
       "133377  Arnt Eriksen, ContributorChief Innovation Offi... 2014-04-21  \n",
       "\n",
       "[2404 rows x 6 columns]"
      ]
     },
     "execution_count": 96,
     "metadata": {},
     "output_type": "execute_result"
    }
   ],
   "source": [
    "df4"
   ]
  },
  {
   "cell_type": "code",
   "execution_count": 97,
   "metadata": {},
   "outputs": [],
   "source": [
    "min_sample = min(len(df1),len(df2),len(df3),len(df4))"
   ]
  },
  {
   "cell_type": "code",
   "execution_count": 98,
   "metadata": {},
   "outputs": [],
   "source": [
    "df1 = df1.sample(min_sample)\n",
    "df2 = df2.sample(min_sample)\n",
    "df3 = df3.sample(min_sample)\n",
    "df4 = df4.sample(min_sample)"
   ]
  },
  {
   "cell_type": "code",
   "execution_count": 99,
   "metadata": {},
   "outputs": [],
   "source": [
    "df = pd.concat([df1,df2,df3,df4])"
   ]
  },
  {
   "cell_type": "code",
   "execution_count": 100,
   "metadata": {},
   "outputs": [
    {
     "data": {
      "text/plain": [
       "COMEDY    2046\n",
       "GREEN     2046\n",
       "CRIME     2046\n",
       "MEDIA     2046\n",
       "Name: category, dtype: int64"
      ]
     },
     "execution_count": 100,
     "metadata": {},
     "output_type": "execute_result"
    }
   ],
   "source": [
    "df.category.value_counts()"
   ]
  },
  {
   "cell_type": "code",
   "execution_count": 101,
   "metadata": {},
   "outputs": [],
   "source": [
    "df['category_num'] = df.category.map({\n",
    "    'WOMEN':0, 'GREEN':1,'CRIME':2,'MEDIA':3\n",
    "})"
   ]
  },
  {
   "cell_type": "code",
   "execution_count": 102,
   "metadata": {},
   "outputs": [],
   "source": [
    "from sklearn.model_selection import train_test_split\n",
    "X_train, X_test, y_train, y_test = train_test_split(df.short_description, df.category, test_size=0.25,stratify=df.category)"
   ]
  },
  {
   "cell_type": "code",
   "execution_count": 116,
   "metadata": {},
   "outputs": [
    {
     "name": "stdout",
     "output_type": "stream",
     "text": [
      "              precision    recall  f1-score   support\n",
      "\n",
      "      COMEDY       0.69      0.55      0.61       512\n",
      "       CRIME       0.72      0.81      0.76       511\n",
      "       GREEN       0.71      0.79      0.75       511\n",
      "       MEDIA       0.69      0.67      0.68       512\n",
      "\n",
      "    accuracy                           0.70      2046\n",
      "   macro avg       0.70      0.70      0.70      2046\n",
      "weighted avg       0.70      0.70      0.70      2046\n",
      "\n"
     ]
    }
   ],
   "source": [
    "from sklearn.feature_extraction.text import CountVectorizer\n",
    "from sklearn.pipeline import Pipeline\n",
    "from sklearn.naive_bayes import MultinomialNB\n",
    "from sklearn.metrics import classification_report\n",
    "\n",
    "model = Pipeline([\n",
    "    ('vector', CountVectorizer(ngram_range=(1,1))),\n",
    "    ('nb',MultinomialNB())\n",
    "])\n",
    "model.fit(X_train,y_train)\n",
    "y_pred = model.predict(X_test)\n",
    "print(classification_report(y_test,y_pred))"
   ]
  },
  {
   "cell_type": "code",
   "execution_count": 104,
   "metadata": {},
   "outputs": [
    {
     "name": "stdout",
     "output_type": "stream",
     "text": [
      "              precision    recall  f1-score   support\n",
      "\n",
      "      COMEDY       0.74      0.56      0.64       511\n",
      "       CRIME       0.79      0.76      0.77       512\n",
      "       GREEN       0.61      0.85      0.71       512\n",
      "       MEDIA       0.71      0.63      0.67       511\n",
      "\n",
      "    accuracy                           0.70      2046\n",
      "   macro avg       0.71      0.70      0.70      2046\n",
      "weighted avg       0.71      0.70      0.70      2046\n",
      "\n"
     ]
    }
   ],
   "source": [
    "from sklearn.feature_extraction.text import CountVectorizer\n",
    "from sklearn.pipeline import Pipeline\n",
    "from sklearn.naive_bayes import MultinomialNB\n",
    "from sklearn.metrics import classification_report\n",
    "\n",
    "model = Pipeline([\n",
    "    ('vector', CountVectorizer(ngram_range=(1,2))),\n",
    "    ('nb',MultinomialNB())\n",
    "])\n",
    "model.fit(X_train,y_train)\n",
    "y_pred = model.predict(X_test)\n",
    "print(classification_report(y_test,y_pred))"
   ]
  },
  {
   "cell_type": "code",
   "execution_count": 105,
   "metadata": {},
   "outputs": [
    {
     "name": "stdout",
     "output_type": "stream",
     "text": [
      "              precision    recall  f1-score   support\n",
      "\n",
      "      COMEDY       0.24      0.62      0.34       511\n",
      "       CRIME       0.48      0.02      0.04       512\n",
      "       GREEN       0.54      0.01      0.03       512\n",
      "       MEDIA       0.27      0.36      0.31       511\n",
      "\n",
      "    accuracy                           0.25      2046\n",
      "   macro avg       0.38      0.25      0.18      2046\n",
      "weighted avg       0.38      0.25      0.18      2046\n",
      "\n"
     ]
    }
   ],
   "source": [
    "from sklearn.feature_extraction.text import CountVectorizer\n",
    "from sklearn.pipeline import Pipeline\n",
    "from sklearn.neighbors import KNeighborsClassifier\n",
    "from sklearn.metrics import classification_report\n",
    "\n",
    "model = Pipeline([\n",
    "    ('vector', CountVectorizer(ngram_range=(1,2))),\n",
    "    ('knn',KNeighborsClassifier())\n",
    "])\n",
    "model.fit(X_train,y_train)\n",
    "y_pred = model.predict(X_test)\n",
    "print(classification_report(y_test,y_pred))"
   ]
  },
  {
   "cell_type": "code",
   "execution_count": 106,
   "metadata": {},
   "outputs": [
    {
     "name": "stdout",
     "output_type": "stream",
     "text": [
      "              precision    recall  f1-score   support\n",
      "\n",
      "      COMEDY       0.28      0.77      0.41       511\n",
      "       CRIME       0.46      0.12      0.20       512\n",
      "       GREEN       0.56      0.08      0.13       512\n",
      "       MEDIA       0.30      0.25      0.27       511\n",
      "\n",
      "    accuracy                           0.30      2046\n",
      "   macro avg       0.40      0.30      0.25      2046\n",
      "weighted avg       0.40      0.30      0.25      2046\n",
      "\n"
     ]
    }
   ],
   "source": [
    "from sklearn.feature_extraction.text import CountVectorizer\n",
    "from sklearn.pipeline import Pipeline\n",
    "from sklearn.neighbors import KNeighborsClassifier\n",
    "from sklearn.metrics import classification_report\n",
    "\n",
    "model = Pipeline([\n",
    "    ('vector', CountVectorizer(ngram_range=(1,1))),\n",
    "    ('knn',KNeighborsClassifier())\n",
    "])\n",
    "model.fit(X_train,y_train)\n",
    "y_pred = model.predict(X_test)\n",
    "print(classification_report(y_test,y_pred))"
   ]
  },
  {
   "cell_type": "code",
   "execution_count": 107,
   "metadata": {},
   "outputs": [],
   "source": [
    "import spacy \n",
    "nlp = spacy.load('en_core_web_sm')"
   ]
  },
  {
   "cell_type": "code",
   "execution_count": 108,
   "metadata": {},
   "outputs": [],
   "source": [
    "df['preprocess_txt'] =df['short_description'].apply(preprocess)"
   ]
  },
  {
   "cell_type": "code",
   "execution_count": 109,
   "metadata": {},
   "outputs": [
    {
     "data": {
      "text/html": [
       "<div>\n",
       "<style scoped>\n",
       "    .dataframe tbody tr th:only-of-type {\n",
       "        vertical-align: middle;\n",
       "    }\n",
       "\n",
       "    .dataframe tbody tr th {\n",
       "        vertical-align: top;\n",
       "    }\n",
       "\n",
       "    .dataframe thead th {\n",
       "        text-align: right;\n",
       "    }\n",
       "</style>\n",
       "<table border=\"1\" class=\"dataframe\">\n",
       "  <thead>\n",
       "    <tr style=\"text-align: right;\">\n",
       "      <th></th>\n",
       "      <th>link</th>\n",
       "      <th>headline</th>\n",
       "      <th>category</th>\n",
       "      <th>short_description</th>\n",
       "      <th>authors</th>\n",
       "      <th>date</th>\n",
       "      <th>category_num</th>\n",
       "      <th>preprocess_txt</th>\n",
       "    </tr>\n",
       "  </thead>\n",
       "  <tbody>\n",
       "    <tr>\n",
       "      <th>178797</th>\n",
       "      <td>https://www.huffingtonpost.com/entry/jay-leno-...</td>\n",
       "      <td>Jay Leno Throws Snowballs At Chick-Fil-A With ...</td>\n",
       "      <td>COMEDY</td>\n",
       "      <td>In this bizarrely corny segment from \"The Toni...</td>\n",
       "      <td></td>\n",
       "      <td>2012-12-24</td>\n",
       "      <td>NaN</td>\n",
       "      <td>bizarrely corny segment Tonight Jay Leno take ...</td>\n",
       "    </tr>\n",
       "    <tr>\n",
       "      <th>123012</th>\n",
       "      <td>https://www.huffingtonpost.com/entry/cats-gett...</td>\n",
       "      <td>Cats Getting Drunk to 'Blame It (On the Alcoho...</td>\n",
       "      <td>COMEDY</td>\n",
       "      <td>Underneath the soft and fuzzy exterior are cre...</td>\n",
       "      <td>Leslie Goshko, ContributorComedian, Writer, Ge...</td>\n",
       "      <td>2014-08-19</td>\n",
       "      <td>NaN</td>\n",
       "      <td>underneath soft fuzzy exterior creature battle...</td>\n",
       "    </tr>\n",
       "    <tr>\n",
       "      <th>52467</th>\n",
       "      <td>https://www.huffingtonpost.com/entry/tim-cook-...</td>\n",
       "      <td>Tim Cook Unveils The New Game-Changing Apple G...</td>\n",
       "      <td>COMEDY</td>\n",
       "      <td>Only $349.99.</td>\n",
       "      <td>Andy McDonald</td>\n",
       "      <td>2016-10-31</td>\n",
       "      <td>NaN</td>\n",
       "      <td>$ 349.99</td>\n",
       "    </tr>\n",
       "    <tr>\n",
       "      <th>148537</th>\n",
       "      <td>https://www.huffingtonpost.com/entry/chris-chr...</td>\n",
       "      <td>Chris Christie Crashes Jimmy Fallon's 'Thank Y...</td>\n",
       "      <td>COMEDY</td>\n",
       "      <td>For all the hubbub about the tastefulness of C...</td>\n",
       "      <td>Ross Luippold</td>\n",
       "      <td>2013-11-09</td>\n",
       "      <td>NaN</td>\n",
       "      <td>hubbub tastefulness Chris Christie fat joke ne...</td>\n",
       "    </tr>\n",
       "    <tr>\n",
       "      <th>164283</th>\n",
       "      <td>https://www.huffingtonpost.com/entry/angry-lit...</td>\n",
       "      <td>Angry Little Dog Gets The Mail (VIDEO)</td>\n",
       "      <td>COMEDY</td>\n",
       "      <td>Not every dog has the right temperament for pi...</td>\n",
       "      <td></td>\n",
       "      <td>2013-05-26</td>\n",
       "      <td>NaN</td>\n",
       "      <td>dog right temperament pick mail Tastefully Off...</td>\n",
       "    </tr>\n",
       "  </tbody>\n",
       "</table>\n",
       "</div>"
      ],
      "text/plain": [
       "                                                     link  \\\n",
       "178797  https://www.huffingtonpost.com/entry/jay-leno-...   \n",
       "123012  https://www.huffingtonpost.com/entry/cats-gett...   \n",
       "52467   https://www.huffingtonpost.com/entry/tim-cook-...   \n",
       "148537  https://www.huffingtonpost.com/entry/chris-chr...   \n",
       "164283  https://www.huffingtonpost.com/entry/angry-lit...   \n",
       "\n",
       "                                                 headline category  \\\n",
       "178797  Jay Leno Throws Snowballs At Chick-Fil-A With ...   COMEDY   \n",
       "123012  Cats Getting Drunk to 'Blame It (On the Alcoho...   COMEDY   \n",
       "52467   Tim Cook Unveils The New Game-Changing Apple G...   COMEDY   \n",
       "148537  Chris Christie Crashes Jimmy Fallon's 'Thank Y...   COMEDY   \n",
       "164283             Angry Little Dog Gets The Mail (VIDEO)   COMEDY   \n",
       "\n",
       "                                        short_description  \\\n",
       "178797  In this bizarrely corny segment from \"The Toni...   \n",
       "123012  Underneath the soft and fuzzy exterior are cre...   \n",
       "52467                                       Only $349.99.   \n",
       "148537  For all the hubbub about the tastefulness of C...   \n",
       "164283  Not every dog has the right temperament for pi...   \n",
       "\n",
       "                                                  authors       date  \\\n",
       "178797                                                    2012-12-24   \n",
       "123012  Leslie Goshko, ContributorComedian, Writer, Ge... 2014-08-19   \n",
       "52467                                       Andy McDonald 2016-10-31   \n",
       "148537                                      Ross Luippold 2013-11-09   \n",
       "164283                                                    2013-05-26   \n",
       "\n",
       "        category_num                                     preprocess_txt  \n",
       "178797           NaN  bizarrely corny segment Tonight Jay Leno take ...  \n",
       "123012           NaN  underneath soft fuzzy exterior creature battle...  \n",
       "52467            NaN                                           $ 349.99  \n",
       "148537           NaN  hubbub tastefulness Chris Christie fat joke ne...  \n",
       "164283           NaN  dog right temperament pick mail Tastefully Off...  "
      ]
     },
     "execution_count": 109,
     "metadata": {},
     "output_type": "execute_result"
    }
   ],
   "source": [
    "df.head()"
   ]
  },
  {
   "cell_type": "code",
   "execution_count": 110,
   "metadata": {},
   "outputs": [],
   "source": [
    "from sklearn.model_selection import train_test_split\n",
    "X_train, X_test, y_train, y_test = train_test_split(df.preprocess_txt, df.category, test_size=0.25,stratify=df.category)"
   ]
  },
  {
   "cell_type": "code",
   "execution_count": 111,
   "metadata": {},
   "outputs": [
    {
     "name": "stdout",
     "output_type": "stream",
     "text": [
      "              precision    recall  f1-score   support\n",
      "\n",
      "      COMEDY       0.69      0.55      0.61       512\n",
      "       CRIME       0.72      0.81      0.76       511\n",
      "       GREEN       0.71      0.79      0.75       511\n",
      "       MEDIA       0.69      0.67      0.68       512\n",
      "\n",
      "    accuracy                           0.70      2046\n",
      "   macro avg       0.70      0.70      0.70      2046\n",
      "weighted avg       0.70      0.70      0.70      2046\n",
      "\n"
     ]
    }
   ],
   "source": [
    "from sklearn.feature_extraction.text import CountVectorizer\n",
    "from sklearn.pipeline import Pipeline\n",
    "from sklearn.naive_bayes import MultinomialNB\n",
    "from sklearn.metrics import classification_report\n",
    "\n",
    "model = Pipeline([\n",
    "    ('vector', CountVectorizer(ngram_range=(1,1))),\n",
    "    ('nb',MultinomialNB())\n",
    "])\n",
    "model.fit(X_train,y_train)\n",
    "y_pred = model.predict(X_test)\n",
    "print(classification_report(y_test,y_pred))"
   ]
  },
  {
   "cell_type": "code",
   "execution_count": 112,
   "metadata": {},
   "outputs": [
    {
     "name": "stdout",
     "output_type": "stream",
     "text": [
      "              precision    recall  f1-score   support\n",
      "\n",
      "      COMEDY       0.69      0.47      0.56       512\n",
      "       CRIME       0.72      0.80      0.76       511\n",
      "       GREEN       0.66      0.81      0.73       511\n",
      "       MEDIA       0.68      0.66      0.67       512\n",
      "\n",
      "    accuracy                           0.69      2046\n",
      "   macro avg       0.69      0.69      0.68      2046\n",
      "weighted avg       0.69      0.69      0.68      2046\n",
      "\n"
     ]
    }
   ],
   "source": [
    "from sklearn.feature_extraction.text import CountVectorizer\n",
    "from sklearn.pipeline import Pipeline\n",
    "from sklearn.naive_bayes import MultinomialNB\n",
    "from sklearn.metrics import classification_report\n",
    "\n",
    "model = Pipeline([\n",
    "    ('vector', CountVectorizer(ngram_range=(1,2))),\n",
    "    ('nb',MultinomialNB())\n",
    "])\n",
    "model.fit(X_train,y_train)\n",
    "y_pred = model.predict(X_test)\n",
    "print(classification_report(y_test,y_pred))"
   ]
  },
  {
   "cell_type": "code",
   "execution_count": 113,
   "metadata": {},
   "outputs": [
    {
     "name": "stdout",
     "output_type": "stream",
     "text": [
      "              precision    recall  f1-score   support\n",
      "\n",
      "      COMEDY       0.27      0.89      0.41       512\n",
      "       CRIME       0.46      0.05      0.08       511\n",
      "       GREEN       0.68      0.04      0.07       511\n",
      "       MEDIA       0.36      0.18      0.24       512\n",
      "\n",
      "    accuracy                           0.29      2046\n",
      "   macro avg       0.44      0.29      0.20      2046\n",
      "weighted avg       0.44      0.29      0.20      2046\n",
      "\n"
     ]
    }
   ],
   "source": [
    "from sklearn.feature_extraction.text import CountVectorizer\n",
    "from sklearn.pipeline import Pipeline\n",
    "from sklearn.neighbors import KNeighborsClassifier\n",
    "from sklearn.metrics import classification_report\n",
    "\n",
    "model = Pipeline([\n",
    "    ('vector', CountVectorizer(ngram_range=(1,1))),\n",
    "    ('knn',KNeighborsClassifier())\n",
    "])\n",
    "model.fit(X_train,y_train)\n",
    "y_pred = model.predict(X_test)\n",
    "print(classification_report(y_test,y_pred))"
   ]
  },
  {
   "cell_type": "code",
   "execution_count": 114,
   "metadata": {},
   "outputs": [
    {
     "name": "stdout",
     "output_type": "stream",
     "text": [
      "              precision    recall  f1-score   support\n",
      "\n",
      "      COMEDY       0.25      0.83      0.38       512\n",
      "       CRIME       0.17      0.00      0.01       511\n",
      "       GREEN       0.80      0.01      0.02       511\n",
      "       MEDIA       0.30      0.19      0.23       512\n",
      "\n",
      "    accuracy                           0.26      2046\n",
      "   macro avg       0.38      0.26      0.16      2046\n",
      "weighted avg       0.38      0.26      0.16      2046\n",
      "\n"
     ]
    }
   ],
   "source": [
    "from sklearn.feature_extraction.text import CountVectorizer\n",
    "from sklearn.pipeline import Pipeline\n",
    "from sklearn.neighbors import KNeighborsClassifier\n",
    "from sklearn.metrics import classification_report\n",
    "\n",
    "model = Pipeline([\n",
    "    ('vector', CountVectorizer(ngram_range=(1,2))),\n",
    "    ('knn',KNeighborsClassifier())\n",
    "])\n",
    "model.fit(X_train,y_train)\n",
    "y_pred = model.predict(X_test)\n",
    "print(classification_report(y_test,y_pred))"
   ]
  },
  {
   "cell_type": "code",
   "execution_count": 117,
   "metadata": {},
   "outputs": [
    {
     "data": {
      "text/plain": [
       "array([[281,  69,  73,  89],\n",
       "       [ 25, 413,  39,  34],\n",
       "       [ 35,  40, 405,  31],\n",
       "       [ 67,  49,  53, 343]], dtype=int64)"
      ]
     },
     "execution_count": 117,
     "metadata": {},
     "output_type": "execute_result"
    }
   ],
   "source": [
    "from sklearn.metrics import confusion_matrix\n",
    "confusion_matrix(y_test,y_pred)"
   ]
  },
  {
   "cell_type": "code",
   "execution_count": null,
   "metadata": {},
   "outputs": [],
   "source": []
  }
 ],
 "metadata": {
  "kernelspec": {
   "display_name": "base",
   "language": "python",
   "name": "python3"
  },
  "language_info": {
   "codemirror_mode": {
    "name": "ipython",
    "version": 3
   },
   "file_extension": ".py",
   "mimetype": "text/x-python",
   "name": "python",
   "nbconvert_exporter": "python",
   "pygments_lexer": "ipython3",
   "version": "3.10.9"
  },
  "orig_nbformat": 4
 },
 "nbformat": 4,
 "nbformat_minor": 2
}
