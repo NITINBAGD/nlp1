{
 "cells": [
  {
   "cell_type": "code",
   "execution_count": 1,
   "metadata": {},
   "outputs": [
    {
     "data": {
      "text/plain": [
       "{'thor': 9,\n",
       " 'the': 7,\n",
       " 'thunderstorm': 11,\n",
       " 'is': 2,\n",
       " 'looking': 5,\n",
       " 'for': 0,\n",
       " 'job': 4,\n",
       " 'thor the': 10,\n",
       " 'the thunderstorm': 8,\n",
       " 'thunderstorm is': 12,\n",
       " 'is looking': 3,\n",
       " 'looking for': 6,\n",
       " 'for job': 1}"
      ]
     },
     "execution_count": 1,
     "metadata": {},
     "output_type": "execute_result"
    }
   ],
   "source": [
    "# from sklearn.feature_extraction.text import CountVectorizer\n",
    "\n",
    "# v = CountVectorizer(ngram_range=(1,2))\n",
    "# v.fit(['Thor the thunderstorm is looking for job'])\n",
    "# v.vocabulary_"
   ]
  },
  {
   "cell_type": "code",
   "execution_count": 4,
   "metadata": {},
   "outputs": [],
   "source": [
    "\n",
    "# carpus = ['Thor ate pizza' , 'Loki is tall' , 'loki is eating pizza']"
   ]
  },
  {
   "cell_type": "code",
   "execution_count": 11,
   "metadata": {},
   "outputs": [],
   "source": [
    "import spacy\n",
    "# from spacy.lang.en.stop_words import STOP_WORDS\n",
    "nlp = spacy.load('en_core_web_sm')\n",
    "\n",
    "def preprocess(text):\n",
    "    doc = nlp(text)\n",
    "    filtered_token = []\n",
    "    for token in doc:\n",
    "        if token.is_stop or token.is_punct:\n",
    "            continue\n",
    "        filtered_token.append(token.lemma_)\n",
    "    return \" \".join(filtered_token)"
   ]
  },
  {
   "cell_type": "code",
   "execution_count": 13,
   "metadata": {},
   "outputs": [
    {
     "data": {
      "text/plain": [
       "'loki eat pizza  '"
      ]
     },
     "execution_count": 13,
     "metadata": {},
     "output_type": "execute_result"
    }
   ],
   "source": [
    "preprocess(\"loki is eating pizza  , \")"
   ]
  },
  {
   "cell_type": "code",
   "execution_count": 6,
   "metadata": {},
   "outputs": [
    {
     "data": {
      "text/plain": [
       "['thor eat pizza', 'Loki tall', 'loki eat pizza']"
      ]
     },
     "execution_count": 6,
     "metadata": {},
     "output_type": "execute_result"
    }
   ],
   "source": [
    "carpus_preprocessed = [preprocess(text) for text in carpus]\n",
    "carpus_preprocessed"
   ]
  },
  {
   "cell_type": "code",
   "execution_count": 10,
   "metadata": {},
   "outputs": [
    {
     "data": {
      "text/plain": [
       "['thor eat pizza', 'Loki tall', 'loki eat pizza']"
      ]
     },
     "execution_count": 10,
     "metadata": {},
     "output_type": "execute_result"
    }
   ],
   "source": [
    "carpus_preprocessed = []\n",
    "for text in carpus:\n",
    "    carpus_preprocessed.append(preprocess(text))\n",
    "carpus_preprocessed"
   ]
  },
  {
   "cell_type": "code",
   "execution_count": 139,
   "metadata": {},
   "outputs": [
    {
     "data": {
      "text/plain": [
       "{'thor': 7,\n",
       " 'eat': 0,\n",
       " 'pizza': 5,\n",
       " 'thor eat': 8,\n",
       " 'eat pizza': 1,\n",
       " 'loki': 2,\n",
       " 'tall': 6,\n",
       " 'loki tall': 4,\n",
       " 'loki eat': 3}"
      ]
     },
     "execution_count": 139,
     "metadata": {},
     "output_type": "execute_result"
    }
   ],
   "source": [
    "v = CountVectorizer(ngram_range=(1,2))\n",
    "carpus_n_grams =v.fit(carpus_preprocessed)\n",
    "\n",
    "carpus_n_grams.vocabulary_"
   ]
  },
  {
   "cell_type": "code",
   "execution_count": 1,
   "metadata": {},
   "outputs": [
    {
     "data": {
      "text/html": [
       "<div>\n",
       "<style scoped>\n",
       "    .dataframe tbody tr th:only-of-type {\n",
       "        vertical-align: middle;\n",
       "    }\n",
       "\n",
       "    .dataframe tbody tr th {\n",
       "        vertical-align: top;\n",
       "    }\n",
       "\n",
       "    .dataframe thead th {\n",
       "        text-align: right;\n",
       "    }\n",
       "</style>\n",
       "<table border=\"1\" class=\"dataframe\">\n",
       "  <thead>\n",
       "    <tr style=\"text-align: right;\">\n",
       "      <th></th>\n",
       "      <th>link</th>\n",
       "      <th>headline</th>\n",
       "      <th>category</th>\n",
       "      <th>short_description</th>\n",
       "      <th>authors</th>\n",
       "      <th>date</th>\n",
       "    </tr>\n",
       "  </thead>\n",
       "  <tbody>\n",
       "    <tr>\n",
       "      <th>0</th>\n",
       "      <td>https://www.huffpost.com/entry/covid-boosters-...</td>\n",
       "      <td>Over 4 Million Americans Roll Up Sleeves For O...</td>\n",
       "      <td>U.S. NEWS</td>\n",
       "      <td>Health experts said it is too early to predict...</td>\n",
       "      <td>Carla K. Johnson, AP</td>\n",
       "      <td>2022-09-23</td>\n",
       "    </tr>\n",
       "    <tr>\n",
       "      <th>1</th>\n",
       "      <td>https://www.huffpost.com/entry/american-airlin...</td>\n",
       "      <td>American Airlines Flyer Charged, Banned For Li...</td>\n",
       "      <td>U.S. NEWS</td>\n",
       "      <td>He was subdued by passengers and crew when he ...</td>\n",
       "      <td>Mary Papenfuss</td>\n",
       "      <td>2022-09-23</td>\n",
       "    </tr>\n",
       "    <tr>\n",
       "      <th>2</th>\n",
       "      <td>https://www.huffpost.com/entry/funniest-tweets...</td>\n",
       "      <td>23 Of The Funniest Tweets About Cats And Dogs ...</td>\n",
       "      <td>COMEDY</td>\n",
       "      <td>\"Until you have a dog you don't understand wha...</td>\n",
       "      <td>Elyse Wanshel</td>\n",
       "      <td>2022-09-23</td>\n",
       "    </tr>\n",
       "    <tr>\n",
       "      <th>3</th>\n",
       "      <td>https://www.huffpost.com/entry/funniest-parent...</td>\n",
       "      <td>The Funniest Tweets From Parents This Week (Se...</td>\n",
       "      <td>PARENTING</td>\n",
       "      <td>\"Accidentally put grown-up toothpaste on my to...</td>\n",
       "      <td>Caroline Bologna</td>\n",
       "      <td>2022-09-23</td>\n",
       "    </tr>\n",
       "    <tr>\n",
       "      <th>4</th>\n",
       "      <td>https://www.huffpost.com/entry/amy-cooper-lose...</td>\n",
       "      <td>Woman Who Called Cops On Black Bird-Watcher Lo...</td>\n",
       "      <td>U.S. NEWS</td>\n",
       "      <td>Amy Cooper accused investment firm Franklin Te...</td>\n",
       "      <td>Nina Golgowski</td>\n",
       "      <td>2022-09-22</td>\n",
       "    </tr>\n",
       "  </tbody>\n",
       "</table>\n",
       "</div>"
      ],
      "text/plain": [
       "                                                link  \\\n",
       "0  https://www.huffpost.com/entry/covid-boosters-...   \n",
       "1  https://www.huffpost.com/entry/american-airlin...   \n",
       "2  https://www.huffpost.com/entry/funniest-tweets...   \n",
       "3  https://www.huffpost.com/entry/funniest-parent...   \n",
       "4  https://www.huffpost.com/entry/amy-cooper-lose...   \n",
       "\n",
       "                                            headline   category  \\\n",
       "0  Over 4 Million Americans Roll Up Sleeves For O...  U.S. NEWS   \n",
       "1  American Airlines Flyer Charged, Banned For Li...  U.S. NEWS   \n",
       "2  23 Of The Funniest Tweets About Cats And Dogs ...     COMEDY   \n",
       "3  The Funniest Tweets From Parents This Week (Se...  PARENTING   \n",
       "4  Woman Who Called Cops On Black Bird-Watcher Lo...  U.S. NEWS   \n",
       "\n",
       "                                   short_description               authors  \\\n",
       "0  Health experts said it is too early to predict...  Carla K. Johnson, AP   \n",
       "1  He was subdued by passengers and crew when he ...        Mary Papenfuss   \n",
       "2  \"Until you have a dog you don't understand wha...         Elyse Wanshel   \n",
       "3  \"Accidentally put grown-up toothpaste on my to...      Caroline Bologna   \n",
       "4  Amy Cooper accused investment firm Franklin Te...        Nina Golgowski   \n",
       "\n",
       "        date  \n",
       "0 2022-09-23  \n",
       "1 2022-09-23  \n",
       "2 2022-09-23  \n",
       "3 2022-09-23  \n",
       "4 2022-09-22  "
      ]
     },
     "execution_count": 1,
     "metadata": {},
     "output_type": "execute_result"
    }
   ],
   "source": [
    "import pandas as pd\n",
    "df = pd.read_json('News_Category_Dataset_v3.json' , lines=True)\n",
    "df.head()\n"
   ]
  },
  {
   "cell_type": "code",
   "execution_count": 2,
   "metadata": {},
   "outputs": [
    {
     "data": {
      "text/plain": [
       "(209527, 6)"
      ]
     },
     "execution_count": 2,
     "metadata": {},
     "output_type": "execute_result"
    }
   ],
   "source": [
    "df.shape"
   ]
  },
  {
   "cell_type": "code",
   "execution_count": 3,
   "metadata": {},
   "outputs": [
    {
     "data": {
      "text/plain": [
       "(189815, 6)"
      ]
     },
     "execution_count": 3,
     "metadata": {},
     "output_type": "execute_result"
    }
   ],
   "source": [
    "df = df[df['short_description'].str.len()!=0]\n",
    "df.shape"
   ]
  },
  {
   "cell_type": "code",
   "execution_count": 4,
   "metadata": {},
   "outputs": [
    {
     "data": {
      "text/plain": [
       "POLITICS          32441\n",
       "WELLNESS          17943\n",
       "ENTERTAINMENT     14774\n",
       "STYLE & BEAUTY     9802\n",
       "TRAVEL             9421\n",
       "PARENTING          8790\n",
       "FOOD & DRINK       6331\n",
       "QUEER VOICES       5603\n",
       "HEALTHY LIVING     5265\n",
       "BUSINESS           5132\n",
       "COMEDY             4642\n",
       "SPORTS             4414\n",
       "HOME & LIVING      4317\n",
       "BLACK VOICES       4177\n",
       "THE WORLDPOST      3664\n",
       "WEDDINGS           3653\n",
       "PARENTS            3556\n",
       "DIVORCE            3426\n",
       "WORLD NEWS         3297\n",
       "WOMEN              3184\n",
       "IMPACT             3086\n",
       "CRIME              2832\n",
       "MEDIA              2404\n",
       "WEIRD NEWS         2316\n",
       "TECH               2103\n",
       "GREEN              2046\n",
       "TASTE              1940\n",
       "RELIGION           1879\n",
       "SCIENCE            1803\n",
       "MONEY              1755\n",
       "STYLE              1567\n",
       "ENVIRONMENT        1442\n",
       "U.S. NEWS          1377\n",
       "ARTS & CULTURE     1339\n",
       "WORLDPOST          1242\n",
       "CULTURE & ARTS     1063\n",
       "FIFTY              1042\n",
       "GOOD NEWS          1039\n",
       "LATINO VOICES      1022\n",
       "COLLEGE             921\n",
       "EDUCATION           902\n",
       "ARTS                863\n",
       "Name: category, dtype: int64"
      ]
     },
     "execution_count": 4,
     "metadata": {},
     "output_type": "execute_result"
    }
   ],
   "source": [
    "df.category.value_counts()"
   ]
  },
  {
   "cell_type": "code",
   "execution_count": 5,
   "metadata": {},
   "outputs": [
    {
     "data": {
      "text/plain": [
       "0         U.S. NEWS\n",
       "1         U.S. NEWS\n",
       "2            COMEDY\n",
       "3         PARENTING\n",
       "4         U.S. NEWS\n",
       "            ...    \n",
       "209522         TECH\n",
       "209523       SPORTS\n",
       "209524       SPORTS\n",
       "209525       SPORTS\n",
       "209526       SPORTS\n",
       "Name: category, Length: 189815, dtype: object"
      ]
     },
     "execution_count": 5,
     "metadata": {},
     "output_type": "execute_result"
    }
   ],
   "source": [
    "df.category"
   ]
  },
  {
   "cell_type": "code",
   "execution_count": 6,
   "metadata": {},
   "outputs": [
    {
     "data": {
      "text/plain": [
       "42"
      ]
     },
     "execution_count": 6,
     "metadata": {},
     "output_type": "execute_result"
    }
   ],
   "source": [
    "len(df.category.value_counts())"
   ]
  },
  {
   "cell_type": "code",
   "execution_count": 7,
   "metadata": {},
   "outputs": [
    {
     "data": {
      "text/plain": [
       "863"
      ]
     },
     "execution_count": 7,
     "metadata": {},
     "output_type": "execute_result"
    }
   ],
   "source": [
    "min(df.category.value_counts())"
   ]
  },
  {
   "cell_type": "code",
   "execution_count": 8,
   "metadata": {},
   "outputs": [],
   "source": [
    "# sample_min = min(df.category.value_counts())\n",
    "df1 = df[df.category == \"SCIENCE\"]\n",
    "df2 = df[df.category == \"SPORTS\"]\n",
    "df3 = df[df.category == \"CRIME\"]\n",
    "df4 = df[df.category == \"BUSINESS\"]"
   ]
  },
  {
   "cell_type": "code",
   "execution_count": 9,
   "metadata": {},
   "outputs": [
    {
     "data": {
      "text/plain": [
       "1803"
      ]
     },
     "execution_count": 9,
     "metadata": {},
     "output_type": "execute_result"
    }
   ],
   "source": [
    "len(df1)"
   ]
  },
  {
   "cell_type": "code",
   "execution_count": 10,
   "metadata": {},
   "outputs": [],
   "source": [
    "sample_min = min(len(df1),len(df2) , len(df3) , len(df4))"
   ]
  },
  {
   "cell_type": "code",
   "execution_count": 11,
   "metadata": {},
   "outputs": [],
   "source": [
    "df1 = df1.sample(sample_min)\n",
    "df2 = df2.sample(sample_min)\n",
    "df3 = df3.sample(sample_min)\n",
    "df4 = df4.sample(sample_min)"
   ]
  },
  {
   "cell_type": "code",
   "execution_count": 12,
   "metadata": {},
   "outputs": [
    {
     "data": {
      "text/plain": [
       "1803"
      ]
     },
     "execution_count": 12,
     "metadata": {},
     "output_type": "execute_result"
    }
   ],
   "source": [
    "len(df3)"
   ]
  },
  {
   "cell_type": "code",
   "execution_count": 13,
   "metadata": {},
   "outputs": [
    {
     "data": {
      "text/html": [
       "<div>\n",
       "<style scoped>\n",
       "    .dataframe tbody tr th:only-of-type {\n",
       "        vertical-align: middle;\n",
       "    }\n",
       "\n",
       "    .dataframe tbody tr th {\n",
       "        vertical-align: top;\n",
       "    }\n",
       "\n",
       "    .dataframe thead th {\n",
       "        text-align: right;\n",
       "    }\n",
       "</style>\n",
       "<table border=\"1\" class=\"dataframe\">\n",
       "  <thead>\n",
       "    <tr style=\"text-align: right;\">\n",
       "      <th></th>\n",
       "      <th>link</th>\n",
       "      <th>headline</th>\n",
       "      <th>category</th>\n",
       "      <th>short_description</th>\n",
       "      <th>authors</th>\n",
       "      <th>date</th>\n",
       "    </tr>\n",
       "  </thead>\n",
       "  <tbody>\n",
       "    <tr>\n",
       "      <th>158377</th>\n",
       "      <td>https://www.huffingtonpost.com/entry/squid-oct...</td>\n",
       "      <td>Squid, Octopus Color Change Ability Tied to 'S...</td>\n",
       "      <td>SCIENCE</td>\n",
       "      <td>This shows the diffusion of the neurotransmitt...</td>\n",
       "      <td>Jacqueline Howard</td>\n",
       "      <td>2013-07-28</td>\n",
       "    </tr>\n",
       "    <tr>\n",
       "      <th>27993</th>\n",
       "      <td>https://www.huffingtonpost.com/entry/pig-organ...</td>\n",
       "      <td>Scientists Hit Breakthrough In Quest To Transp...</td>\n",
       "      <td>SCIENCE</td>\n",
       "      <td>These little piggies could soon save millions ...</td>\n",
       "      <td>Ryan Grenoble</td>\n",
       "      <td>2017-08-10</td>\n",
       "    </tr>\n",
       "    <tr>\n",
       "      <th>141884</th>\n",
       "      <td>https://www.huffingtonpost.com/entry/king-alfr...</td>\n",
       "      <td>King Alfred The Great's Pelvic Bone May Have B...</td>\n",
       "      <td>SCIENCE</td>\n",
       "      <td>Radiocarbon tests showed that it dates between...</td>\n",
       "      <td>LiveScience, LiveScience</td>\n",
       "      <td>2014-01-19</td>\n",
       "    </tr>\n",
       "    <tr>\n",
       "      <th>187370</th>\n",
       "      <td>https://www.huffingtonpost.com/entry/single-ge...</td>\n",
       "      <td>'Single Gene May Hold Key to Life Itself'</td>\n",
       "      <td>SCIENCE</td>\n",
       "      <td>Distortions and sensationalism really only exp...</td>\n",
       "      <td>Nathaniel Comfort, Contributor\\nAssociate prof...</td>\n",
       "      <td>2012-09-23</td>\n",
       "    </tr>\n",
       "    <tr>\n",
       "      <th>187371</th>\n",
       "      <td>https://www.huffingtonpost.com/entry/ig-nobel-...</td>\n",
       "      <td>Ig Nobel Prizes Go To Ponytail Physics, Explod...</td>\n",
       "      <td>SCIENCE</td>\n",
       "      <td>ScienceNOW, the daily online news service of t...</td>\n",
       "      <td>Melissa Cronin</td>\n",
       "      <td>2012-09-23</td>\n",
       "    </tr>\n",
       "    <tr>\n",
       "      <th>...</th>\n",
       "      <td>...</td>\n",
       "      <td>...</td>\n",
       "      <td>...</td>\n",
       "      <td>...</td>\n",
       "      <td>...</td>\n",
       "      <td>...</td>\n",
       "    </tr>\n",
       "    <tr>\n",
       "      <th>189282</th>\n",
       "      <td>https://www.huffingtonpost.comhttp://www.nytim...</td>\n",
       "      <td>Ex-BP CEO Gets His Life Back</td>\n",
       "      <td>BUSINESS</td>\n",
       "      <td>IF there's a public villain of the Gulf of Mex...</td>\n",
       "      <td></td>\n",
       "      <td>2012-09-03</td>\n",
       "    </tr>\n",
       "    <tr>\n",
       "      <th>78196</th>\n",
       "      <td>https://www.huffingtonpost.com/entry/the-secre...</td>\n",
       "      <td>The Secret To Being Happy And Loving Your Job</td>\n",
       "      <td>BUSINESS</td>\n",
       "      <td>There is no way to happiness; happiness is the...</td>\n",
       "      <td>Jo Confino</td>\n",
       "      <td>2016-01-13</td>\n",
       "    </tr>\n",
       "    <tr>\n",
       "      <th>27067</th>\n",
       "      <td>https://www.huffingtonpost.com/entry/how-do-yo...</td>\n",
       "      <td>How Do You Know You Have A Good Consumer Lawye...</td>\n",
       "      <td>BUSINESS</td>\n",
       "      <td>Diana Winkler suspected she'd found a great la...</td>\n",
       "      <td>Christopher Elliott, ContributorAuthor, How to...</td>\n",
       "      <td>2017-08-21</td>\n",
       "    </tr>\n",
       "    <tr>\n",
       "      <th>108701</th>\n",
       "      <td>https://www.huffingtonpost.com/entry/32-effect...</td>\n",
       "      <td>32 Effective Formats to Package Your Systems</td>\n",
       "      <td>BUSINESS</td>\n",
       "      <td>Have you ever been frustrated that your staff ...</td>\n",
       "      <td>David Finkel, ContributorBest-selling author a...</td>\n",
       "      <td>2015-01-30</td>\n",
       "    </tr>\n",
       "    <tr>\n",
       "      <th>60021</th>\n",
       "      <td>https://www.huffingtonpost.com/entry/stress-li...</td>\n",
       "      <td>Stress Literally Shrinks Your Brain (7 Ways To...</td>\n",
       "      <td>BUSINESS</td>\n",
       "      <td>We all know that living under stressful condit...</td>\n",
       "      <td>Dr. Travis Bradberry, ContributorAuthor of #1 ...</td>\n",
       "      <td>2016-08-07</td>\n",
       "    </tr>\n",
       "  </tbody>\n",
       "</table>\n",
       "<p>7212 rows × 6 columns</p>\n",
       "</div>"
      ],
      "text/plain": [
       "                                                     link  \\\n",
       "158377  https://www.huffingtonpost.com/entry/squid-oct...   \n",
       "27993   https://www.huffingtonpost.com/entry/pig-organ...   \n",
       "141884  https://www.huffingtonpost.com/entry/king-alfr...   \n",
       "187370  https://www.huffingtonpost.com/entry/single-ge...   \n",
       "187371  https://www.huffingtonpost.com/entry/ig-nobel-...   \n",
       "...                                                   ...   \n",
       "189282  https://www.huffingtonpost.comhttp://www.nytim...   \n",
       "78196   https://www.huffingtonpost.com/entry/the-secre...   \n",
       "27067   https://www.huffingtonpost.com/entry/how-do-yo...   \n",
       "108701  https://www.huffingtonpost.com/entry/32-effect...   \n",
       "60021   https://www.huffingtonpost.com/entry/stress-li...   \n",
       "\n",
       "                                                 headline  category  \\\n",
       "158377  Squid, Octopus Color Change Ability Tied to 'S...   SCIENCE   \n",
       "27993   Scientists Hit Breakthrough In Quest To Transp...   SCIENCE   \n",
       "141884  King Alfred The Great's Pelvic Bone May Have B...   SCIENCE   \n",
       "187370          'Single Gene May Hold Key to Life Itself'   SCIENCE   \n",
       "187371  Ig Nobel Prizes Go To Ponytail Physics, Explod...   SCIENCE   \n",
       "...                                                   ...       ...   \n",
       "189282                       Ex-BP CEO Gets His Life Back  BUSINESS   \n",
       "78196       The Secret To Being Happy And Loving Your Job  BUSINESS   \n",
       "27067   How Do You Know You Have A Good Consumer Lawye...  BUSINESS   \n",
       "108701       32 Effective Formats to Package Your Systems  BUSINESS   \n",
       "60021   Stress Literally Shrinks Your Brain (7 Ways To...  BUSINESS   \n",
       "\n",
       "                                        short_description  \\\n",
       "158377  This shows the diffusion of the neurotransmitt...   \n",
       "27993   These little piggies could soon save millions ...   \n",
       "141884  Radiocarbon tests showed that it dates between...   \n",
       "187370  Distortions and sensationalism really only exp...   \n",
       "187371  ScienceNOW, the daily online news service of t...   \n",
       "...                                                   ...   \n",
       "189282  IF there's a public villain of the Gulf of Mex...   \n",
       "78196   There is no way to happiness; happiness is the...   \n",
       "27067   Diana Winkler suspected she'd found a great la...   \n",
       "108701  Have you ever been frustrated that your staff ...   \n",
       "60021   We all know that living under stressful condit...   \n",
       "\n",
       "                                                  authors       date  \n",
       "158377                                  Jacqueline Howard 2013-07-28  \n",
       "27993                                       Ryan Grenoble 2017-08-10  \n",
       "141884                           LiveScience, LiveScience 2014-01-19  \n",
       "187370  Nathaniel Comfort, Contributor\\nAssociate prof... 2012-09-23  \n",
       "187371                                     Melissa Cronin 2012-09-23  \n",
       "...                                                   ...        ...  \n",
       "189282                                                    2012-09-03  \n",
       "78196                                          Jo Confino 2016-01-13  \n",
       "27067   Christopher Elliott, ContributorAuthor, How to... 2017-08-21  \n",
       "108701  David Finkel, ContributorBest-selling author a... 2015-01-30  \n",
       "60021   Dr. Travis Bradberry, ContributorAuthor of #1 ... 2016-08-07  \n",
       "\n",
       "[7212 rows x 6 columns]"
      ]
     },
     "execution_count": 13,
     "metadata": {},
     "output_type": "execute_result"
    }
   ],
   "source": [
    "df_balanced = pd.concat([df1,df2,df3,df4] , axis=0)\n",
    "df_balanced"
   ]
  },
  {
   "cell_type": "code",
   "execution_count": 14,
   "metadata": {},
   "outputs": [
    {
     "data": {
      "text/html": [
       "<div>\n",
       "<style scoped>\n",
       "    .dataframe tbody tr th:only-of-type {\n",
       "        vertical-align: middle;\n",
       "    }\n",
       "\n",
       "    .dataframe tbody tr th {\n",
       "        vertical-align: top;\n",
       "    }\n",
       "\n",
       "    .dataframe thead th {\n",
       "        text-align: right;\n",
       "    }\n",
       "</style>\n",
       "<table border=\"1\" class=\"dataframe\">\n",
       "  <thead>\n",
       "    <tr style=\"text-align: right;\">\n",
       "      <th></th>\n",
       "      <th>link</th>\n",
       "      <th>headline</th>\n",
       "      <th>category</th>\n",
       "      <th>short_description</th>\n",
       "      <th>authors</th>\n",
       "      <th>date</th>\n",
       "      <th>category_num</th>\n",
       "    </tr>\n",
       "  </thead>\n",
       "  <tbody>\n",
       "    <tr>\n",
       "      <th>158377</th>\n",
       "      <td>https://www.huffingtonpost.com/entry/squid-oct...</td>\n",
       "      <td>Squid, Octopus Color Change Ability Tied to 'S...</td>\n",
       "      <td>SCIENCE</td>\n",
       "      <td>This shows the diffusion of the neurotransmitt...</td>\n",
       "      <td>Jacqueline Howard</td>\n",
       "      <td>2013-07-28</td>\n",
       "      <td>1</td>\n",
       "    </tr>\n",
       "    <tr>\n",
       "      <th>27993</th>\n",
       "      <td>https://www.huffingtonpost.com/entry/pig-organ...</td>\n",
       "      <td>Scientists Hit Breakthrough In Quest To Transp...</td>\n",
       "      <td>SCIENCE</td>\n",
       "      <td>These little piggies could soon save millions ...</td>\n",
       "      <td>Ryan Grenoble</td>\n",
       "      <td>2017-08-10</td>\n",
       "      <td>1</td>\n",
       "    </tr>\n",
       "    <tr>\n",
       "      <th>141884</th>\n",
       "      <td>https://www.huffingtonpost.com/entry/king-alfr...</td>\n",
       "      <td>King Alfred The Great's Pelvic Bone May Have B...</td>\n",
       "      <td>SCIENCE</td>\n",
       "      <td>Radiocarbon tests showed that it dates between...</td>\n",
       "      <td>LiveScience, LiveScience</td>\n",
       "      <td>2014-01-19</td>\n",
       "      <td>1</td>\n",
       "    </tr>\n",
       "    <tr>\n",
       "      <th>187370</th>\n",
       "      <td>https://www.huffingtonpost.com/entry/single-ge...</td>\n",
       "      <td>'Single Gene May Hold Key to Life Itself'</td>\n",
       "      <td>SCIENCE</td>\n",
       "      <td>Distortions and sensationalism really only exp...</td>\n",
       "      <td>Nathaniel Comfort, Contributor\\nAssociate prof...</td>\n",
       "      <td>2012-09-23</td>\n",
       "      <td>1</td>\n",
       "    </tr>\n",
       "    <tr>\n",
       "      <th>187371</th>\n",
       "      <td>https://www.huffingtonpost.com/entry/ig-nobel-...</td>\n",
       "      <td>Ig Nobel Prizes Go To Ponytail Physics, Explod...</td>\n",
       "      <td>SCIENCE</td>\n",
       "      <td>ScienceNOW, the daily online news service of t...</td>\n",
       "      <td>Melissa Cronin</td>\n",
       "      <td>2012-09-23</td>\n",
       "      <td>1</td>\n",
       "    </tr>\n",
       "  </tbody>\n",
       "</table>\n",
       "</div>"
      ],
      "text/plain": [
       "                                                     link  \\\n",
       "158377  https://www.huffingtonpost.com/entry/squid-oct...   \n",
       "27993   https://www.huffingtonpost.com/entry/pig-organ...   \n",
       "141884  https://www.huffingtonpost.com/entry/king-alfr...   \n",
       "187370  https://www.huffingtonpost.com/entry/single-ge...   \n",
       "187371  https://www.huffingtonpost.com/entry/ig-nobel-...   \n",
       "\n",
       "                                                 headline category  \\\n",
       "158377  Squid, Octopus Color Change Ability Tied to 'S...  SCIENCE   \n",
       "27993   Scientists Hit Breakthrough In Quest To Transp...  SCIENCE   \n",
       "141884  King Alfred The Great's Pelvic Bone May Have B...  SCIENCE   \n",
       "187370          'Single Gene May Hold Key to Life Itself'  SCIENCE   \n",
       "187371  Ig Nobel Prizes Go To Ponytail Physics, Explod...  SCIENCE   \n",
       "\n",
       "                                        short_description  \\\n",
       "158377  This shows the diffusion of the neurotransmitt...   \n",
       "27993   These little piggies could soon save millions ...   \n",
       "141884  Radiocarbon tests showed that it dates between...   \n",
       "187370  Distortions and sensationalism really only exp...   \n",
       "187371  ScienceNOW, the daily online news service of t...   \n",
       "\n",
       "                                                  authors       date  \\\n",
       "158377                                  Jacqueline Howard 2013-07-28   \n",
       "27993                                       Ryan Grenoble 2017-08-10   \n",
       "141884                           LiveScience, LiveScience 2014-01-19   \n",
       "187370  Nathaniel Comfort, Contributor\\nAssociate prof... 2012-09-23   \n",
       "187371                                     Melissa Cronin 2012-09-23   \n",
       "\n",
       "        category_num  \n",
       "158377             1  \n",
       "27993              1  \n",
       "141884             1  \n",
       "187370             1  \n",
       "187371             1  "
      ]
     },
     "execution_count": 14,
     "metadata": {},
     "output_type": "execute_result"
    }
   ],
   "source": [
    "df_balanced['category_num'] = df_balanced.category.map({\n",
    "    'SCIENCE':1 , 'SPORTS':2 ,'CRIME':3 , 'BUSINESS':4\n",
    "    })\n",
    "df_balanced.head()"
   ]
  },
  {
   "cell_type": "code",
   "execution_count": 15,
   "metadata": {},
   "outputs": [],
   "source": [
    "from sklearn.model_selection import train_test_split\n",
    "# x= df_balanced['short_description']\n",
    "\n",
    "X_train, X_test , y_train ,y_test = train_test_split( df_balanced['short_description'], df_balanced.category_num ,\n",
    "                                                      test_size=0.2 , stratify=df_balanced.category_num)\n",
    "\n",
    "#stratify pick equal number of data from each class "
   ]
  },
  {
   "cell_type": "code",
   "execution_count": 16,
   "metadata": {},
   "outputs": [
    {
     "data": {
      "text/plain": [
       "124194    The old saying, \"Let 'em eat cake,\" was a bett...\n",
       "124178    A recent study suggests that cinnamon may be g...\n",
       "114197    When an SUV slammed into musher Karin Hendrick...\n",
       "79645     The Broncos quarterback fires back at claims t...\n",
       "101338    Bridget is a project manager for a tech compan...\n",
       "                                ...                        \n",
       "104309    Here are some qualifications for unusual board...\n",
       "79879     Giving, gratitude and all that sugar can make ...\n",
       "19049     Social science points to a few ways that peopl...\n",
       "186768    The messages, released Friday upon request by ...\n",
       "14674                                                 Oops.\n",
       "Name: short_description, Length: 5769, dtype: object"
      ]
     },
     "execution_count": 16,
     "metadata": {},
     "output_type": "execute_result"
    }
   ],
   "source": [
    "X_train"
   ]
  },
  {
   "cell_type": "code",
   "execution_count": 17,
   "metadata": {},
   "outputs": [
    {
     "data": {
      "text/plain": [
       "124194    2\n",
       "124178    1\n",
       "114197    2\n",
       "79645     2\n",
       "101338    4\n",
       "         ..\n",
       "104309    4\n",
       "79879     1\n",
       "19049     4\n",
       "186768    3\n",
       "14674     2\n",
       "Name: category_num, Length: 5769, dtype: int64"
      ]
     },
     "execution_count": 17,
     "metadata": {},
     "output_type": "execute_result"
    }
   ],
   "source": [
    "y_train\n"
   ]
  },
  {
   "cell_type": "code",
   "execution_count": 18,
   "metadata": {},
   "outputs": [],
   "source": [
    "# v = CountVectorizer()\n",
    "# X_train = v.fit_transform(X_train)\n",
    "# X_train.vacabulary_"
   ]
  },
  {
   "cell_type": "code",
   "execution_count": 29,
   "metadata": {},
   "outputs": [
    {
     "name": "stdout",
     "output_type": "stream",
     "text": [
      "              precision    recall  f1-score   support\n",
      "\n",
      "           1       0.85      0.70      0.77       361\n",
      "           2       0.83      0.65      0.73       360\n",
      "           3       0.77      0.75      0.76       361\n",
      "           4       0.59      0.84      0.69       361\n",
      "\n",
      "    accuracy                           0.74      1443\n",
      "   macro avg       0.76      0.74      0.74      1443\n",
      "weighted avg       0.76      0.74      0.74      1443\n",
      "\n"
     ]
    }
   ],
   "source": [
    "from sklearn.naive_bayes import MultinomialNB\n",
    "from sklearn.pipeline import Pipeline \n",
    "from sklearn.feature_extraction.text import CountVectorizer\n",
    "from sklearn.metrics import classification_report\n",
    "model = Pipeline([\n",
    "    ('vectorizer_bow' , CountVectorizer()),('Multi Nb' , MultinomialNB())\n",
    "])\n",
    "model.fit(X_train,y_train)\n",
    "model.score(X_test,y_test)\n",
    "y_pred = model.predict(X_test)\n",
    "print(classification_report(y_test,y_pred))"
   ]
  },
  {
   "cell_type": "code",
   "execution_count": 32,
   "metadata": {},
   "outputs": [
    {
     "name": "stdout",
     "output_type": "stream",
     "text": [
      "              precision    recall  f1-score   support\n",
      "\n",
      "           1       0.66      0.53      0.59       361\n",
      "           2       0.66      0.55      0.60       360\n",
      "           3       0.72      0.71      0.72       361\n",
      "           4       0.51      0.71      0.60       361\n",
      "\n",
      "    accuracy                           0.63      1443\n",
      "   macro avg       0.64      0.63      0.63      1443\n",
      "weighted avg       0.64      0.63      0.63      1443\n",
      "\n"
     ]
    }
   ],
   "source": [
    "from sklearn.naive_bayes import MultinomialNB\n",
    "from sklearn.pipeline import Pipeline \n",
    "from sklearn.feature_extraction.text import CountVectorizer\n",
    "from sklearn.metrics import classification_report\n",
    "model = Pipeline([\n",
    "    ('vectorizer_bow' , CountVectorizer(ngram_range=(1,2)) ),('Multi Nb' , MultinomialNB())\n",
    "])\n",
    "model.fit(X_train,y_train)\n",
    "model.score(X_test,y_test)\n",
    "y_pred = model.predict(X_test)\n",
    "print(classification_report(y_test,y_pred))"
   ]
  },
  {
   "attachments": {},
   "cell_type": "markdown",
   "metadata": {},
   "source": [
    "NOW USE PREPROCESSOR"
   ]
  },
  {
   "cell_type": "code",
   "execution_count": 35,
   "metadata": {},
   "outputs": [],
   "source": [
    "df_balanced['preprocess_txt'] = df_balanced['short_description'].apply(preprocess)"
   ]
  },
  {
   "cell_type": "code",
   "execution_count": 36,
   "metadata": {},
   "outputs": [
    {
     "data": {
      "text/html": [
       "<div>\n",
       "<style scoped>\n",
       "    .dataframe tbody tr th:only-of-type {\n",
       "        vertical-align: middle;\n",
       "    }\n",
       "\n",
       "    .dataframe tbody tr th {\n",
       "        vertical-align: top;\n",
       "    }\n",
       "\n",
       "    .dataframe thead th {\n",
       "        text-align: right;\n",
       "    }\n",
       "</style>\n",
       "<table border=\"1\" class=\"dataframe\">\n",
       "  <thead>\n",
       "    <tr style=\"text-align: right;\">\n",
       "      <th></th>\n",
       "      <th>link</th>\n",
       "      <th>headline</th>\n",
       "      <th>category</th>\n",
       "      <th>short_description</th>\n",
       "      <th>authors</th>\n",
       "      <th>date</th>\n",
       "      <th>category_num</th>\n",
       "      <th>preprocess_txt</th>\n",
       "    </tr>\n",
       "  </thead>\n",
       "  <tbody>\n",
       "    <tr>\n",
       "      <th>158377</th>\n",
       "      <td>https://www.huffingtonpost.com/entry/squid-oct...</td>\n",
       "      <td>Squid, Octopus Color Change Ability Tied to 'S...</td>\n",
       "      <td>SCIENCE</td>\n",
       "      <td>This shows the diffusion of the neurotransmitt...</td>\n",
       "      <td>Jacqueline Howard</td>\n",
       "      <td>2013-07-28</td>\n",
       "      <td>1</td>\n",
       "      <td>show diffusion neurotransmitter apply squid sk...</td>\n",
       "    </tr>\n",
       "    <tr>\n",
       "      <th>27993</th>\n",
       "      <td>https://www.huffingtonpost.com/entry/pig-organ...</td>\n",
       "      <td>Scientists Hit Breakthrough In Quest To Transp...</td>\n",
       "      <td>SCIENCE</td>\n",
       "      <td>These little piggies could soon save millions ...</td>\n",
       "      <td>Ryan Grenoble</td>\n",
       "      <td>2017-08-10</td>\n",
       "      <td>1</td>\n",
       "      <td>little piggy soon save million life</td>\n",
       "    </tr>\n",
       "    <tr>\n",
       "      <th>141884</th>\n",
       "      <td>https://www.huffingtonpost.com/entry/king-alfr...</td>\n",
       "      <td>King Alfred The Great's Pelvic Bone May Have B...</td>\n",
       "      <td>SCIENCE</td>\n",
       "      <td>Radiocarbon tests showed that it dates between...</td>\n",
       "      <td>LiveScience, LiveScience</td>\n",
       "      <td>2014-01-19</td>\n",
       "      <td>1</td>\n",
       "      <td>radiocarbon test show date year 895 1017 skele...</td>\n",
       "    </tr>\n",
       "    <tr>\n",
       "      <th>187370</th>\n",
       "      <td>https://www.huffingtonpost.com/entry/single-ge...</td>\n",
       "      <td>'Single Gene May Hold Key to Life Itself'</td>\n",
       "      <td>SCIENCE</td>\n",
       "      <td>Distortions and sensationalism really only exp...</td>\n",
       "      <td>Nathaniel Comfort, Contributor\\nAssociate prof...</td>\n",
       "      <td>2012-09-23</td>\n",
       "      <td>1</td>\n",
       "      <td>distortion sensationalism explain deterministi...</td>\n",
       "    </tr>\n",
       "    <tr>\n",
       "      <th>187371</th>\n",
       "      <td>https://www.huffingtonpost.com/entry/ig-nobel-...</td>\n",
       "      <td>Ig Nobel Prizes Go To Ponytail Physics, Explod...</td>\n",
       "      <td>SCIENCE</td>\n",
       "      <td>ScienceNOW, the daily online news service of t...</td>\n",
       "      <td>Melissa Cronin</td>\n",
       "      <td>2012-09-23</td>\n",
       "      <td>1</td>\n",
       "      <td>ScienceNOW daily online news service journal S...</td>\n",
       "    </tr>\n",
       "  </tbody>\n",
       "</table>\n",
       "</div>"
      ],
      "text/plain": [
       "                                                     link  \\\n",
       "158377  https://www.huffingtonpost.com/entry/squid-oct...   \n",
       "27993   https://www.huffingtonpost.com/entry/pig-organ...   \n",
       "141884  https://www.huffingtonpost.com/entry/king-alfr...   \n",
       "187370  https://www.huffingtonpost.com/entry/single-ge...   \n",
       "187371  https://www.huffingtonpost.com/entry/ig-nobel-...   \n",
       "\n",
       "                                                 headline category  \\\n",
       "158377  Squid, Octopus Color Change Ability Tied to 'S...  SCIENCE   \n",
       "27993   Scientists Hit Breakthrough In Quest To Transp...  SCIENCE   \n",
       "141884  King Alfred The Great's Pelvic Bone May Have B...  SCIENCE   \n",
       "187370          'Single Gene May Hold Key to Life Itself'  SCIENCE   \n",
       "187371  Ig Nobel Prizes Go To Ponytail Physics, Explod...  SCIENCE   \n",
       "\n",
       "                                        short_description  \\\n",
       "158377  This shows the diffusion of the neurotransmitt...   \n",
       "27993   These little piggies could soon save millions ...   \n",
       "141884  Radiocarbon tests showed that it dates between...   \n",
       "187370  Distortions and sensationalism really only exp...   \n",
       "187371  ScienceNOW, the daily online news service of t...   \n",
       "\n",
       "                                                  authors       date  \\\n",
       "158377                                  Jacqueline Howard 2013-07-28   \n",
       "27993                                       Ryan Grenoble 2017-08-10   \n",
       "141884                           LiveScience, LiveScience 2014-01-19   \n",
       "187370  Nathaniel Comfort, Contributor\\nAssociate prof... 2012-09-23   \n",
       "187371                                     Melissa Cronin 2012-09-23   \n",
       "\n",
       "        category_num                                     preprocess_txt  \n",
       "158377             1  show diffusion neurotransmitter apply squid sk...  \n",
       "27993              1                little piggy soon save million life  \n",
       "141884             1  radiocarbon test show date year 895 1017 skele...  \n",
       "187370             1  distortion sensationalism explain deterministi...  \n",
       "187371             1  ScienceNOW daily online news service journal S...  "
      ]
     },
     "execution_count": 36,
     "metadata": {},
     "output_type": "execute_result"
    }
   ],
   "source": [
    "df_balanced.head()"
   ]
  },
  {
   "cell_type": "code",
   "execution_count": 37,
   "metadata": {},
   "outputs": [],
   "source": [
    "from sklearn.model_selection import train_test_split\n",
    "# x= df_balanced['short_description']\n",
    "\n",
    "X_train, X_test , y_train ,y_test = train_test_split( df_balanced['preprocess_txt'], df_balanced.category_num ,\n",
    "                                                      test_size=0.2 , stratify=df_balanced.category_num)\n",
    "\n",
    "#stratify pick equal number of data from each class "
   ]
  },
  {
   "cell_type": "code",
   "execution_count": 38,
   "metadata": {},
   "outputs": [
    {
     "name": "stdout",
     "output_type": "stream",
     "text": [
      "              precision    recall  f1-score   support\n",
      "\n",
      "           1       0.79      0.73      0.76       361\n",
      "           2       0.79      0.66      0.72       360\n",
      "           3       0.77      0.81      0.79       361\n",
      "           4       0.67      0.80      0.73       361\n",
      "\n",
      "    accuracy                           0.75      1443\n",
      "   macro avg       0.76      0.75      0.75      1443\n",
      "weighted avg       0.76      0.75      0.75      1443\n",
      "\n"
     ]
    }
   ],
   "source": [
    "from sklearn.naive_bayes import MultinomialNB\n",
    "from sklearn.pipeline import Pipeline \n",
    "from sklearn.feature_extraction.text import CountVectorizer\n",
    "from sklearn.metrics import classification_report\n",
    "model = Pipeline([\n",
    "    ('vectorizer_bow' , CountVectorizer() ),('Multi Nb' , MultinomialNB())\n",
    "])\n",
    "model.fit(X_train,y_train)\n",
    "model.score(X_test,y_test)\n",
    "y_pred = model.predict(X_test)\n",
    "print(classification_report(y_test,y_pred))"
   ]
  },
  {
   "cell_type": "code",
   "execution_count": 39,
   "metadata": {},
   "outputs": [
    {
     "name": "stdout",
     "output_type": "stream",
     "text": [
      "              precision    recall  f1-score   support\n",
      "\n",
      "           1       0.82      0.73      0.77       361\n",
      "           2       0.83      0.64      0.72       360\n",
      "           3       0.78      0.81      0.80       361\n",
      "           4       0.64      0.84      0.73       361\n",
      "\n",
      "    accuracy                           0.75      1443\n",
      "   macro avg       0.77      0.75      0.75      1443\n",
      "weighted avg       0.77      0.75      0.75      1443\n",
      "\n"
     ]
    }
   ],
   "source": [
    "from sklearn.naive_bayes import MultinomialNB\n",
    "from sklearn.pipeline import Pipeline \n",
    "from sklearn.feature_extraction.text import CountVectorizer\n",
    "from sklearn.metrics import classification_report\n",
    "model = Pipeline([\n",
    "    ('vectorizer_bow' , CountVectorizer(ngram_range=(1,2)) ),('Multi Nb' , MultinomialNB())\n",
    "])\n",
    "model.fit(X_train,y_train)\n",
    "model.score(X_test,y_test)\n",
    "y_pred = model.predict(X_test)\n",
    "print(classification_report(y_test,y_pred))"
   ]
  },
  {
   "cell_type": "code",
   "execution_count": 41,
   "metadata": {},
   "outputs": [
    {
     "data": {
      "text/plain": [
       "array([[263,  22,  14,  62],\n",
       "       [ 27, 230,  41,  62],\n",
       "       [ 13,  13, 291,  44],\n",
       "       [ 18,  13,  25, 305]], dtype=int64)"
      ]
     },
     "execution_count": 41,
     "metadata": {},
     "output_type": "execute_result"
    }
   ],
   "source": [
    "from sklearn.metrics import confusion_matrix\n",
    "cm = confusion_matrix(y_test,y_pred)\n",
    "cm"
   ]
  },
  {
   "cell_type": "code",
   "execution_count": 46,
   "metadata": {},
   "outputs": [
    {
     "data": {
      "text/plain": [
       "Text(50.722222222222214, 0.5, 'truth')"
      ]
     },
     "execution_count": 46,
     "metadata": {},
     "output_type": "execute_result"
    },
    {
     "data": {
      "image/png": "[encoded data removed]",
      "text/plain": [
       "<Figure size 640x480 with 2 Axes>"
      ]
     },
     "metadata": {},
     "output_type": "display_data"
    }
   ],
   "source": [
    "import seaborn as sn\n",
    "import matplotlib.pyplot as plt \n",
    "sn.heatmap(cm,annot=True , fmt ='d')\n",
    "plt.xlabel('prediction')\n",
    "plt.ylabel('truth')"
   ]
  },
  {
   "cell_type": "code",
   "execution_count": null,
   "metadata": {},
   "outputs": [],
   "source": []
  }
 ],
 "metadata": {
  "kernelspec": {
   "display_name": "base",
   "language": "python",
   "name": "python3"
  },
  "language_info": {
   "codemirror_mode": {
    "name": "ipython",
    "version": 3
   },
   "file_extension": ".py",
   "mimetype": "text/x-python",
   "name": "python",
   "nbconvert_exporter": "python",
   "pygments_lexer": "ipython3",
   "version": "3.10.9"
  },
  "orig_nbformat": 4
 },
 "nbformat": 4,
 "nbformat_minor": 2
}
