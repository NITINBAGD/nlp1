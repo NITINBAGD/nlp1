{
 "cells": [
  {
   "cell_type": "code",
   "execution_count": 1,
   "metadata": {},
   "outputs": [],
   "source": [
    "import re\n"
   ]
  },
  {
   "cell_type": "code",
   "execution_count": 16,
   "metadata": {},
   "outputs": [],
   "source": [
    "chat1 = 'codebasics:you ask lot of questions 12345678912 , abf_@gmail.com'\n",
    "chat2 = 'codebasic: yes phone : (653)-294-5521 , abcfjdsa@xyz.com'\n",
    "chat2 = 'codebasic: yes phone : (653)-294-5621 , abcfadajdsa@xyz.com'"
   ]
  },
  {
   "cell_type": "code",
   "execution_count": 28,
   "metadata": {},
   "outputs": [],
   "source": [
    "chat4 = 'Hello, I have a issue with order number 23548513'\n",
    "chat5 = 'Hello, I have a issue with order # 23548515663'\n",
    "\n"
   ]
  },
  {
   "cell_type": "code",
   "execution_count": 33,
   "metadata": {},
   "outputs": [],
   "source": [
    "text = '''Born\tRatan Naval Tata\n",
    "28 December 1937 (age 85)\n",
    "Bombay, Bombay Presidency, British India\n",
    "Alma mater\tCornell University (BArch)\n",
    "Occupation(s)\tIndustrialist, Philanthropist\n",
    "Title\tChairman Emeritus, Tata Sons and Tata Group[1]\n",
    "Term\t\n",
    "1991–2012\n",
    "2016–2017\n",
    "Predecessor\tJ. R. D. Tata\n",
    "Successor\t\n",
    "Cyrus Mistry (2012–2016)\n",
    "Natarajan Chandrasekaran (2017–present)\n",
    "Parent\tNaval Tata\n",
    "Relatives\tTata family\n",
    "Awards\t\n",
    "Order of Australia (2023)\n",
    "Assam Baibhav (2021)\n",
    "Honorary Knight Grand Cross of the Order of the British Empire (2014)\n",
    "Padma Vibhushan (2008)\n",
    "Maharashtra Bhushan (2006)\n",
    "Padma Bhushan (2000)'''"
   ]
  },
  {
   "cell_type": "code",
   "execution_count": 44,
   "metadata": {},
   "outputs": [
    {
     "data": {
      "text/plain": [
       "['Bombay, Bombay Presidency, British India']"
      ]
     },
     "execution_count": 44,
     "metadata": {},
     "output_type": "execute_result"
    }
   ],
   "source": [
    "# pattern = '\\d{10}'\n",
    "# pattern = '\\(\\d{3}\\)-\\d{3}-\\d{4}'\n",
    "# pattern = '\\d{10}|\\(\\d{3}\\)-\\d{3}-\\d{4}'\n",
    "# pattern = '[a-zA-z0-9_]*@[a-zA-z0-9]*\\.[a-zA-Z]*'\n",
    "\n",
    "# pattern = 'order[^\\d]*(\\d*)'\n",
    "pattern_age = 'age (\\d+)'\n",
    "pattern_name = 'Born(.*)'\n",
    "pattern_DOB = 'Born.*\\n(.*) \\(age'\n",
    "pattern_Bplace = '\\(age.*\\n(.*)'\n",
    "\n",
    "matches = re.findall(pattern_age , text)\n",
    "matches1 = re.findall(pattern_name , text)\n",
    "matches2 = re.findall(pattern_DOB , text)\n",
    "matches3 = re.findall(pattern_Bplace , text)\n",
    "\n",
    "\n",
    "matches1[0].strip()\n",
    "matches2\n",
    "matches3 "
   ]
  },
  {
   "cell_type": "code",
   "execution_count": 45,
   "metadata": {},
   "outputs": [],
   "source": [
    "def get_pattern_match(pattern ,text):\n",
    "    matches = re.findall(pattern , text)\n",
    "    if matches:\n",
    "        return matches[0]\n"
   ]
  },
  {
   "cell_type": "code",
   "execution_count": 46,
   "metadata": {},
   "outputs": [
    {
     "data": {
      "text/plain": [
       "'85'"
      ]
     },
     "execution_count": 46,
     "metadata": {},
     "output_type": "execute_result"
    }
   ],
   "source": [
    "get_pattern_match(pattern_age , text)"
   ]
  },
  {
   "cell_type": "code",
   "execution_count": 51,
   "metadata": {},
   "outputs": [],
   "source": [
    "def get_personal_info(text):\n",
    "    age = re.findall('age (\\d+)' , text)\n",
    "    name = re.findall('Born(.*)' , text)\n",
    "    DOB = re.findall('Born.*\\n(.*) \\(age',text)\n",
    "    Birth_place = re.findall('\\(age.*\\n(.*)',text)\n",
    "\n",
    "    return {\n",
    "        'age' : int(age[0]),\n",
    "        'name':name[0].strip(),\n",
    "        'DOB': DOB[0].strip(),\n",
    "        'Birth_place':Birth_place[0].strip()\n",
    "    }"
   ]
  },
  {
   "cell_type": "code",
   "execution_count": 52,
   "metadata": {},
   "outputs": [
    {
     "data": {
      "text/plain": [
       "{'age': 85,\n",
       " 'name': 'Ratan Naval Tata',\n",
       " 'DOB': '28 December 1937',\n",
       " 'Birth_place': 'Bombay, Bombay Presidency, British India'}"
      ]
     },
     "execution_count": 52,
     "metadata": {},
     "output_type": "execute_result"
    }
   ],
   "source": [
    "get_personal_info(text)"
   ]
  },
  {
   "cell_type": "code",
   "execution_count": null,
   "metadata": {},
   "outputs": [],
   "source": []
  }
 ],
 "metadata": {
  "kernelspec": {
   "display_name": "base",
   "language": "python",
   "name": "python3"
  },
  "language_info": {
   "codemirror_mode": {
    "name": "ipython",
    "version": 3
   },
   "file_extension": ".py",
   "mimetype": "text/x-python",
   "name": "python",
   "nbconvert_exporter": "python",
   "pygments_lexer": "ipython3",
   "version": "3.10.9"
  },
  "orig_nbformat": 4
 },
 "nbformat": 4,
 "nbformat_minor": 2
}
